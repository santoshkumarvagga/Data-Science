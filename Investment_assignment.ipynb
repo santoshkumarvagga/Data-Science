{
 "metadata": {
  "language_info": {
   "codemirror_mode": {
    "name": "ipython",
    "version": 3
   },
   "file_extension": ".py",
   "mimetype": "text/x-python",
   "name": "python",
   "nbconvert_exporter": "python",
   "pygments_lexer": "ipython3",
   "version": "3.8.3-final"
  },
  "orig_nbformat": 2,
  "kernelspec": {
   "name": "python3",
   "display_name": "Python 3"
  }
 },
 "nbformat": 4,
 "nbformat_minor": 2,
 "cells": [
  {
   "cell_type": "code",
   "execution_count": 29,
   "metadata": {},
   "outputs": [
    {
     "output_type": "execute_result",
     "data": {
      "text/plain": [
       "                                               permalink  \\\n",
       "0                                    /Organization/-Fame   \n",
       "1                                 /Organization/-Qounter   \n",
       "2                    /Organization/-The-One-Of-Them-Inc-   \n",
       "3                                  /Organization/0-6-Com   \n",
       "4                         /Organization/004-Technologies   \n",
       "...                                                  ...   \n",
       "66363  /Organization/Zznode-Science-And-Technology-Co...   \n",
       "66364                          /Organization/Zzzzapp-Com   \n",
       "66365                               /Organization/ÃEron   \n",
       "66366                             /Organization/ÃAsys-2   \n",
       "66367  /Organization/Ä°Novatiff-Reklam-Ve-Tanä±Tä±M-H...   \n",
       "\n",
       "                                                name  \\\n",
       "0                                              #fame   \n",
       "1                                           :Qounter   \n",
       "2                             (THE) ONE of THEM,Inc.   \n",
       "3                                            0-6.com   \n",
       "4                                   004 Technologies   \n",
       "...                                              ...   \n",
       "66363                  ZZNode Science and Technology   \n",
       "66364                          Zzzzapp Wireless ltd.   \n",
       "66365                                         ÃERON   \n",
       "66366                                         Ãasys   \n",
       "66367  Ä°novatiff Reklam ve TanÄ±tÄ±m Hizmetleri Tic   \n",
       "\n",
       "                            homepage_url  \\\n",
       "0                     http://livfame.com   \n",
       "1                 http://www.qounter.com   \n",
       "2                    http://oneofthem.jp   \n",
       "3                     http://www.0-6.com   \n",
       "4      http://004gmbh.de/en/004-interact   \n",
       "...                                  ...   \n",
       "66363              http://www.zznode.com   \n",
       "66364             http://www.zzzzapp.com   \n",
       "66365               http://www.aeron.hu/   \n",
       "66366               http://www.oasys.io/   \n",
       "66367               http://inovatiff.com   \n",
       "\n",
       "                                           category_list     status  \\\n",
       "0                                                  Media  operating   \n",
       "1      Application Platforms|Real Time|Social Network...  operating   \n",
       "2                                      Apps|Games|Mobile  operating   \n",
       "3                                            Curated Web  operating   \n",
       "4                                               Software  operating   \n",
       "...                                                  ...        ...   \n",
       "66363                                Enterprise Software  operating   \n",
       "66364        Advertising|Mobile|Web Development|Wireless  operating   \n",
       "66365                                                NaN  operating   \n",
       "66366  Consumer Electronics|Internet of Things|Teleco...  operating   \n",
       "66367                 Consumer Goods|E-Commerce|Internet  operating   \n",
       "\n",
       "      country_code state_code                 region           city  \\\n",
       "0              IND         16                 Mumbai         Mumbai   \n",
       "1              USA         DE             DE - Other  Delaware City   \n",
       "2              NaN        NaN                    NaN            NaN   \n",
       "3              CHN         22                Beijing        Beijing   \n",
       "4              USA         IL  Springfield, Illinois      Champaign   \n",
       "...            ...        ...                    ...            ...   \n",
       "66363          CHN         22                Beijing        Beijing   \n",
       "66364          HRV         15                  Split          Split   \n",
       "66365          NaN        NaN                    NaN            NaN   \n",
       "66366          USA         CA            SF Bay Area  San Francisco   \n",
       "66367          NaN        NaN                    NaN            NaN   \n",
       "\n",
       "       founded_at  \n",
       "0             NaN  \n",
       "1        4/9/2014  \n",
       "2             NaN  \n",
       "3        1/1/2007  \n",
       "4        1/1/2010  \n",
       "...           ...  \n",
       "66363         NaN  \n",
       "66364  13-05-2012  \n",
       "66365    1/1/2011  \n",
       "66366    1/1/2014  \n",
       "66367         NaN  \n",
       "\n",
       "[66368 rows x 10 columns]"
      ],
      "text/html": "<div>\n<style scoped>\n    .dataframe tbody tr th:only-of-type {\n        vertical-align: middle;\n    }\n\n    .dataframe tbody tr th {\n        vertical-align: top;\n    }\n\n    .dataframe thead th {\n        text-align: right;\n    }\n</style>\n<table border=\"1\" class=\"dataframe\">\n  <thead>\n    <tr style=\"text-align: right;\">\n      <th></th>\n      <th>permalink</th>\n      <th>name</th>\n      <th>homepage_url</th>\n      <th>category_list</th>\n      <th>status</th>\n      <th>country_code</th>\n      <th>state_code</th>\n      <th>region</th>\n      <th>city</th>\n      <th>founded_at</th>\n    </tr>\n  </thead>\n  <tbody>\n    <tr>\n      <th>0</th>\n      <td>/Organization/-Fame</td>\n      <td>#fame</td>\n      <td>http://livfame.com</td>\n      <td>Media</td>\n      <td>operating</td>\n      <td>IND</td>\n      <td>16</td>\n      <td>Mumbai</td>\n      <td>Mumbai</td>\n      <td>NaN</td>\n    </tr>\n    <tr>\n      <th>1</th>\n      <td>/Organization/-Qounter</td>\n      <td>:Qounter</td>\n      <td>http://www.qounter.com</td>\n      <td>Application Platforms|Real Time|Social Network...</td>\n      <td>operating</td>\n      <td>USA</td>\n      <td>DE</td>\n      <td>DE - Other</td>\n      <td>Delaware City</td>\n      <td>4/9/2014</td>\n    </tr>\n    <tr>\n      <th>2</th>\n      <td>/Organization/-The-One-Of-Them-Inc-</td>\n      <td>(THE) ONE of THEM,Inc.</td>\n      <td>http://oneofthem.jp</td>\n      <td>Apps|Games|Mobile</td>\n      <td>operating</td>\n      <td>NaN</td>\n      <td>NaN</td>\n      <td>NaN</td>\n      <td>NaN</td>\n      <td>NaN</td>\n    </tr>\n    <tr>\n      <th>3</th>\n      <td>/Organization/0-6-Com</td>\n      <td>0-6.com</td>\n      <td>http://www.0-6.com</td>\n      <td>Curated Web</td>\n      <td>operating</td>\n      <td>CHN</td>\n      <td>22</td>\n      <td>Beijing</td>\n      <td>Beijing</td>\n      <td>1/1/2007</td>\n    </tr>\n    <tr>\n      <th>4</th>\n      <td>/Organization/004-Technologies</td>\n      <td>004 Technologies</td>\n      <td>http://004gmbh.de/en/004-interact</td>\n      <td>Software</td>\n      <td>operating</td>\n      <td>USA</td>\n      <td>IL</td>\n      <td>Springfield, Illinois</td>\n      <td>Champaign</td>\n      <td>1/1/2010</td>\n    </tr>\n    <tr>\n      <th>...</th>\n      <td>...</td>\n      <td>...</td>\n      <td>...</td>\n      <td>...</td>\n      <td>...</td>\n      <td>...</td>\n      <td>...</td>\n      <td>...</td>\n      <td>...</td>\n      <td>...</td>\n    </tr>\n    <tr>\n      <th>66363</th>\n      <td>/Organization/Zznode-Science-And-Technology-Co...</td>\n      <td>ZZNode Science and Technology</td>\n      <td>http://www.zznode.com</td>\n      <td>Enterprise Software</td>\n      <td>operating</td>\n      <td>CHN</td>\n      <td>22</td>\n      <td>Beijing</td>\n      <td>Beijing</td>\n      <td>NaN</td>\n    </tr>\n    <tr>\n      <th>66364</th>\n      <td>/Organization/Zzzzapp-Com</td>\n      <td>Zzzzapp Wireless ltd.</td>\n      <td>http://www.zzzzapp.com</td>\n      <td>Advertising|Mobile|Web Development|Wireless</td>\n      <td>operating</td>\n      <td>HRV</td>\n      <td>15</td>\n      <td>Split</td>\n      <td>Split</td>\n      <td>13-05-2012</td>\n    </tr>\n    <tr>\n      <th>66365</th>\n      <td>/Organization/ÃEron</td>\n      <td>ÃERON</td>\n      <td>http://www.aeron.hu/</td>\n      <td>NaN</td>\n      <td>operating</td>\n      <td>NaN</td>\n      <td>NaN</td>\n      <td>NaN</td>\n      <td>NaN</td>\n      <td>1/1/2011</td>\n    </tr>\n    <tr>\n      <th>66366</th>\n      <td>/Organization/ÃAsys-2</td>\n      <td>Ãasys</td>\n      <td>http://www.oasys.io/</td>\n      <td>Consumer Electronics|Internet of Things|Teleco...</td>\n      <td>operating</td>\n      <td>USA</td>\n      <td>CA</td>\n      <td>SF Bay Area</td>\n      <td>San Francisco</td>\n      <td>1/1/2014</td>\n    </tr>\n    <tr>\n      <th>66367</th>\n      <td>/Organization/Ä°Novatiff-Reklam-Ve-Tanä±Tä±M-H...</td>\n      <td>Ä°novatiff Reklam ve TanÄ±tÄ±m Hizmetleri Tic</td>\n      <td>http://inovatiff.com</td>\n      <td>Consumer Goods|E-Commerce|Internet</td>\n      <td>operating</td>\n      <td>NaN</td>\n      <td>NaN</td>\n      <td>NaN</td>\n      <td>NaN</td>\n      <td>NaN</td>\n    </tr>\n  </tbody>\n</table>\n<p>66368 rows × 10 columns</p>\n</div>"
     },
     "metadata": {},
     "execution_count": 29
    }
   ],
   "source": [
    "import numpy as np \n",
    "import pandas as pd \n",
    "\n",
    "companies = pd.read_csv(\"companies.csv\", encoding = 'unicode_escape')\n",
    "companies"
   ]
  },
  {
   "cell_type": "code",
   "execution_count": 30,
   "metadata": {},
   "outputs": [
    {
     "output_type": "execute_result",
     "data": {
      "text/plain": [
       "                                        company_permalink  \\\n",
       "0                                     /organization/-fame   \n",
       "1                                  /ORGANIZATION/-QOUNTER   \n",
       "2                                  /organization/-qounter   \n",
       "3                     /ORGANIZATION/-THE-ONE-OF-THEM-INC-   \n",
       "4                                   /organization/0-6-com   \n",
       "...                                                   ...   \n",
       "114944                          /organization/zzzzapp-com   \n",
       "114945                          /ORGANIZATION/ZZZZAPP-COM   \n",
       "114946                               /organization/ãeron   \n",
       "114947                             /ORGANIZATION/ÃASYS-2   \n",
       "114948  /organization/ä°novatiff-reklam-ve-tanä±tä±m-h...   \n",
       "\n",
       "                                funding_round_permalink funding_round_type  \\\n",
       "0       /funding-round/9a01d05418af9f794eebff7ace91f638            venture   \n",
       "1       /funding-round/22dacff496eb7acb2b901dec1dfe5633            venture   \n",
       "2       /funding-round/b44fbb94153f6cdef13083530bb48030               seed   \n",
       "3       /funding-round/650b8f704416801069bb178a1418776b            venture   \n",
       "4       /funding-round/5727accaeaa57461bd22a9bdd945382d            venture   \n",
       "...                                                 ...                ...   \n",
       "114944  /funding-round/8f6d25b8ee4199e586484d817bceda05   convertible_note   \n",
       "114945  /funding-round/ff1aa06ed5da186c84f101549035d4ae               seed   \n",
       "114946  /funding-round/59f4dce44723b794f21ded3daed6e4fe            venture   \n",
       "114947  /funding-round/35f09d0794651719b02bbfd859ba9ff5               seed   \n",
       "114948  /funding-round/af942869878d2cd788ef5189b435ebc4              grant   \n",
       "\n",
       "       funding_round_code   funded_at  raised_amount_usd  \n",
       "0                       B    5/1/2015         10000000.0  \n",
       "1                       A  14-10-2014                NaN  \n",
       "2                     NaN    1/3/2014           700000.0  \n",
       "3                       B  30-01-2014          3406878.0  \n",
       "4                       A  19-03-2008          2000000.0  \n",
       "...                   ...         ...                ...  \n",
       "114944                NaN    1/3/2014            41313.0  \n",
       "114945                NaN    1/5/2013            32842.0  \n",
       "114946                  A    1/8/2014                NaN  \n",
       "114947                NaN    1/1/2015            18192.0  \n",
       "114948                NaN   1/10/2013            14851.0  \n",
       "\n",
       "[114949 rows x 6 columns]"
      ],
      "text/html": "<div>\n<style scoped>\n    .dataframe tbody tr th:only-of-type {\n        vertical-align: middle;\n    }\n\n    .dataframe tbody tr th {\n        vertical-align: top;\n    }\n\n    .dataframe thead th {\n        text-align: right;\n    }\n</style>\n<table border=\"1\" class=\"dataframe\">\n  <thead>\n    <tr style=\"text-align: right;\">\n      <th></th>\n      <th>company_permalink</th>\n      <th>funding_round_permalink</th>\n      <th>funding_round_type</th>\n      <th>funding_round_code</th>\n      <th>funded_at</th>\n      <th>raised_amount_usd</th>\n    </tr>\n  </thead>\n  <tbody>\n    <tr>\n      <th>0</th>\n      <td>/organization/-fame</td>\n      <td>/funding-round/9a01d05418af9f794eebff7ace91f638</td>\n      <td>venture</td>\n      <td>B</td>\n      <td>5/1/2015</td>\n      <td>10000000.0</td>\n    </tr>\n    <tr>\n      <th>1</th>\n      <td>/ORGANIZATION/-QOUNTER</td>\n      <td>/funding-round/22dacff496eb7acb2b901dec1dfe5633</td>\n      <td>venture</td>\n      <td>A</td>\n      <td>14-10-2014</td>\n      <td>NaN</td>\n    </tr>\n    <tr>\n      <th>2</th>\n      <td>/organization/-qounter</td>\n      <td>/funding-round/b44fbb94153f6cdef13083530bb48030</td>\n      <td>seed</td>\n      <td>NaN</td>\n      <td>1/3/2014</td>\n      <td>700000.0</td>\n    </tr>\n    <tr>\n      <th>3</th>\n      <td>/ORGANIZATION/-THE-ONE-OF-THEM-INC-</td>\n      <td>/funding-round/650b8f704416801069bb178a1418776b</td>\n      <td>venture</td>\n      <td>B</td>\n      <td>30-01-2014</td>\n      <td>3406878.0</td>\n    </tr>\n    <tr>\n      <th>4</th>\n      <td>/organization/0-6-com</td>\n      <td>/funding-round/5727accaeaa57461bd22a9bdd945382d</td>\n      <td>venture</td>\n      <td>A</td>\n      <td>19-03-2008</td>\n      <td>2000000.0</td>\n    </tr>\n    <tr>\n      <th>...</th>\n      <td>...</td>\n      <td>...</td>\n      <td>...</td>\n      <td>...</td>\n      <td>...</td>\n      <td>...</td>\n    </tr>\n    <tr>\n      <th>114944</th>\n      <td>/organization/zzzzapp-com</td>\n      <td>/funding-round/8f6d25b8ee4199e586484d817bceda05</td>\n      <td>convertible_note</td>\n      <td>NaN</td>\n      <td>1/3/2014</td>\n      <td>41313.0</td>\n    </tr>\n    <tr>\n      <th>114945</th>\n      <td>/ORGANIZATION/ZZZZAPP-COM</td>\n      <td>/funding-round/ff1aa06ed5da186c84f101549035d4ae</td>\n      <td>seed</td>\n      <td>NaN</td>\n      <td>1/5/2013</td>\n      <td>32842.0</td>\n    </tr>\n    <tr>\n      <th>114946</th>\n      <td>/organization/ãeron</td>\n      <td>/funding-round/59f4dce44723b794f21ded3daed6e4fe</td>\n      <td>venture</td>\n      <td>A</td>\n      <td>1/8/2014</td>\n      <td>NaN</td>\n    </tr>\n    <tr>\n      <th>114947</th>\n      <td>/ORGANIZATION/ÃASYS-2</td>\n      <td>/funding-round/35f09d0794651719b02bbfd859ba9ff5</td>\n      <td>seed</td>\n      <td>NaN</td>\n      <td>1/1/2015</td>\n      <td>18192.0</td>\n    </tr>\n    <tr>\n      <th>114948</th>\n      <td>/organization/ä°novatiff-reklam-ve-tanä±tä±m-h...</td>\n      <td>/funding-round/af942869878d2cd788ef5189b435ebc4</td>\n      <td>grant</td>\n      <td>NaN</td>\n      <td>1/10/2013</td>\n      <td>14851.0</td>\n    </tr>\n  </tbody>\n</table>\n<p>114949 rows × 6 columns</p>\n</div>"
     },
     "metadata": {},
     "execution_count": 30
    }
   ],
   "source": [
    "rounds2 = pd.read_csv(\"rounds2.csv\", encoding = 'unicode_escape')\n",
    "rounds2 "
   ]
  },
  {
   "source": [
    "Checkpoint 1: Data Cleaning 1"
   ],
   "cell_type": "markdown",
   "metadata": {}
  },
  {
   "cell_type": "code",
   "execution_count": 31,
   "metadata": {},
   "outputs": [
    {
     "output_type": "execute_result",
     "data": {
      "text/plain": [
       "90247"
      ]
     },
     "metadata": {},
     "execution_count": 31
    }
   ],
   "source": [
    "# Question 1) How many unique companies are present in rounds?\n",
    "len(rounds2[\"company_permalink\"].unique().tolist())\n",
    "# Answer : 90247"
   ]
  },
  {
   "cell_type": "code",
   "execution_count": 32,
   "metadata": {},
   "outputs": [
    {
     "output_type": "execute_result",
     "data": {
      "text/plain": [
       "66368"
      ]
     },
     "metadata": {},
     "execution_count": 32
    }
   ],
   "source": [
    "# Question 2) How many unique companies are present in companies?\n",
    "len(companies[\"permalink\"].unique().tolist())\n",
    "# Answer : 66368"
   ]
  },
  {
   "cell_type": "code",
   "execution_count": 33,
   "metadata": {},
   "outputs": [],
   "source": [
    "# Question 3) In the companies data frame, which column can be used as the unique key for each company? Write the name of the column.\n",
    "\n",
    "# Answer: permalink"
   ]
  },
  {
   "cell_type": "code",
   "execution_count": 34,
   "metadata": {},
   "outputs": [],
   "source": [
    "# Question 4) Are there any companies in the rounds2 file which are not present in companies? Answer yes or no: Y/N\n",
    "\n",
    "# Answer: Y"
   ]
  },
  {
   "cell_type": "code",
   "execution_count": 57,
   "metadata": {},
   "outputs": [
    {
     "output_type": "execute_result",
     "data": {
      "text/plain": [
       "                                        company_permalink  \\\n",
       "0                                     /organization/-fame   \n",
       "1                                  /ORGANIZATION/-QOUNTER   \n",
       "2                                  /organization/-qounter   \n",
       "3                     /ORGANIZATION/-THE-ONE-OF-THEM-INC-   \n",
       "4                                   /organization/0-6-com   \n",
       "...                                                   ...   \n",
       "114944                          /organization/zzzzapp-com   \n",
       "114945                          /ORGANIZATION/ZZZZAPP-COM   \n",
       "114946                               /organization/ãeron   \n",
       "114947                             /ORGANIZATION/ÃASYS-2   \n",
       "114948  /organization/ä°novatiff-reklam-ve-tanä±tä±m-h...   \n",
       "\n",
       "                                funding_round_permalink funding_round_type  \\\n",
       "0       /funding-round/9a01d05418af9f794eebff7ace91f638            venture   \n",
       "1       /funding-round/22dacff496eb7acb2b901dec1dfe5633            venture   \n",
       "2       /funding-round/b44fbb94153f6cdef13083530bb48030               seed   \n",
       "3       /funding-round/650b8f704416801069bb178a1418776b            venture   \n",
       "4       /funding-round/5727accaeaa57461bd22a9bdd945382d            venture   \n",
       "...                                                 ...                ...   \n",
       "114944  /funding-round/8f6d25b8ee4199e586484d817bceda05   convertible_note   \n",
       "114945  /funding-round/ff1aa06ed5da186c84f101549035d4ae               seed   \n",
       "114946  /funding-round/59f4dce44723b794f21ded3daed6e4fe            venture   \n",
       "114947  /funding-round/35f09d0794651719b02bbfd859ba9ff5               seed   \n",
       "114948  /funding-round/af942869878d2cd788ef5189b435ebc4              grant   \n",
       "\n",
       "       funding_round_code   funded_at  raised_amount_usd  \\\n",
       "0                       B    5/1/2015         10000000.0   \n",
       "1                       A  14-10-2014                NaN   \n",
       "2                     NaN    1/3/2014           700000.0   \n",
       "3                       B  30-01-2014          3406878.0   \n",
       "4                       A  19-03-2008          2000000.0   \n",
       "...                   ...         ...                ...   \n",
       "114944                NaN    1/3/2014            41313.0   \n",
       "114945                NaN    1/5/2013            32842.0   \n",
       "114946                  A    1/8/2014                NaN   \n",
       "114947                NaN    1/1/2015            18192.0   \n",
       "114948                NaN   1/10/2013            14851.0   \n",
       "\n",
       "                                  permalink                    name  \\\n",
       "0                       /Organization/-Fame                   #fame   \n",
       "1                    /Organization/-Qounter                :Qounter   \n",
       "2       /Organization/-The-One-Of-Them-Inc-  (THE) ONE of THEM,Inc.   \n",
       "3                     /Organization/0-6-Com                 0-6.com   \n",
       "4            /Organization/004-Technologies        004 Technologies   \n",
       "...                                     ...                     ...   \n",
       "114944                                  NaN                     NaN   \n",
       "114945                                  NaN                     NaN   \n",
       "114946                                  NaN                     NaN   \n",
       "114947                                  NaN                     NaN   \n",
       "114948                                  NaN                     NaN   \n",
       "\n",
       "                             homepage_url  \\\n",
       "0                      http://livfame.com   \n",
       "1                  http://www.qounter.com   \n",
       "2                     http://oneofthem.jp   \n",
       "3                      http://www.0-6.com   \n",
       "4       http://004gmbh.de/en/004-interact   \n",
       "...                                   ...   \n",
       "114944                                NaN   \n",
       "114945                                NaN   \n",
       "114946                                NaN   \n",
       "114947                                NaN   \n",
       "114948                                NaN   \n",
       "\n",
       "                                            category_list     status  \\\n",
       "0                                                   Media  operating   \n",
       "1       Application Platforms|Real Time|Social Network...  operating   \n",
       "2                                       Apps|Games|Mobile  operating   \n",
       "3                                             Curated Web  operating   \n",
       "4                                                Software  operating   \n",
       "...                                                   ...        ...   \n",
       "114944                                                NaN        NaN   \n",
       "114945                                                NaN        NaN   \n",
       "114946                                                NaN        NaN   \n",
       "114947                                                NaN        NaN   \n",
       "114948                                                NaN        NaN   \n",
       "\n",
       "       country_code state_code                 region           city  \\\n",
       "0               IND         16                 Mumbai         Mumbai   \n",
       "1               USA         DE             DE - Other  Delaware City   \n",
       "2               NaN        NaN                    NaN            NaN   \n",
       "3               CHN         22                Beijing        Beijing   \n",
       "4               USA         IL  Springfield, Illinois      Champaign   \n",
       "...             ...        ...                    ...            ...   \n",
       "114944          NaN        NaN                    NaN            NaN   \n",
       "114945          NaN        NaN                    NaN            NaN   \n",
       "114946          NaN        NaN                    NaN            NaN   \n",
       "114947          NaN        NaN                    NaN            NaN   \n",
       "114948          NaN        NaN                    NaN            NaN   \n",
       "\n",
       "       founded_at  \n",
       "0             NaN  \n",
       "1        4/9/2014  \n",
       "2             NaN  \n",
       "3        1/1/2007  \n",
       "4        1/1/2010  \n",
       "...           ...  \n",
       "114944        NaN  \n",
       "114945        NaN  \n",
       "114946        NaN  \n",
       "114947        NaN  \n",
       "114948        NaN  \n",
       "\n",
       "[114949 rows x 16 columns]"
      ],
      "text/html": "<div>\n<style scoped>\n    .dataframe tbody tr th:only-of-type {\n        vertical-align: middle;\n    }\n\n    .dataframe tbody tr th {\n        vertical-align: top;\n    }\n\n    .dataframe thead th {\n        text-align: right;\n    }\n</style>\n<table border=\"1\" class=\"dataframe\">\n  <thead>\n    <tr style=\"text-align: right;\">\n      <th></th>\n      <th>company_permalink</th>\n      <th>funding_round_permalink</th>\n      <th>funding_round_type</th>\n      <th>funding_round_code</th>\n      <th>funded_at</th>\n      <th>raised_amount_usd</th>\n      <th>permalink</th>\n      <th>name</th>\n      <th>homepage_url</th>\n      <th>category_list</th>\n      <th>status</th>\n      <th>country_code</th>\n      <th>state_code</th>\n      <th>region</th>\n      <th>city</th>\n      <th>founded_at</th>\n    </tr>\n  </thead>\n  <tbody>\n    <tr>\n      <th>0</th>\n      <td>/organization/-fame</td>\n      <td>/funding-round/9a01d05418af9f794eebff7ace91f638</td>\n      <td>venture</td>\n      <td>B</td>\n      <td>5/1/2015</td>\n      <td>10000000.0</td>\n      <td>/Organization/-Fame</td>\n      <td>#fame</td>\n      <td>http://livfame.com</td>\n      <td>Media</td>\n      <td>operating</td>\n      <td>IND</td>\n      <td>16</td>\n      <td>Mumbai</td>\n      <td>Mumbai</td>\n      <td>NaN</td>\n    </tr>\n    <tr>\n      <th>1</th>\n      <td>/ORGANIZATION/-QOUNTER</td>\n      <td>/funding-round/22dacff496eb7acb2b901dec1dfe5633</td>\n      <td>venture</td>\n      <td>A</td>\n      <td>14-10-2014</td>\n      <td>NaN</td>\n      <td>/Organization/-Qounter</td>\n      <td>:Qounter</td>\n      <td>http://www.qounter.com</td>\n      <td>Application Platforms|Real Time|Social Network...</td>\n      <td>operating</td>\n      <td>USA</td>\n      <td>DE</td>\n      <td>DE - Other</td>\n      <td>Delaware City</td>\n      <td>4/9/2014</td>\n    </tr>\n    <tr>\n      <th>2</th>\n      <td>/organization/-qounter</td>\n      <td>/funding-round/b44fbb94153f6cdef13083530bb48030</td>\n      <td>seed</td>\n      <td>NaN</td>\n      <td>1/3/2014</td>\n      <td>700000.0</td>\n      <td>/Organization/-The-One-Of-Them-Inc-</td>\n      <td>(THE) ONE of THEM,Inc.</td>\n      <td>http://oneofthem.jp</td>\n      <td>Apps|Games|Mobile</td>\n      <td>operating</td>\n      <td>NaN</td>\n      <td>NaN</td>\n      <td>NaN</td>\n      <td>NaN</td>\n      <td>NaN</td>\n    </tr>\n    <tr>\n      <th>3</th>\n      <td>/ORGANIZATION/-THE-ONE-OF-THEM-INC-</td>\n      <td>/funding-round/650b8f704416801069bb178a1418776b</td>\n      <td>venture</td>\n      <td>B</td>\n      <td>30-01-2014</td>\n      <td>3406878.0</td>\n      <td>/Organization/0-6-Com</td>\n      <td>0-6.com</td>\n      <td>http://www.0-6.com</td>\n      <td>Curated Web</td>\n      <td>operating</td>\n      <td>CHN</td>\n      <td>22</td>\n      <td>Beijing</td>\n      <td>Beijing</td>\n      <td>1/1/2007</td>\n    </tr>\n    <tr>\n      <th>4</th>\n      <td>/organization/0-6-com</td>\n      <td>/funding-round/5727accaeaa57461bd22a9bdd945382d</td>\n      <td>venture</td>\n      <td>A</td>\n      <td>19-03-2008</td>\n      <td>2000000.0</td>\n      <td>/Organization/004-Technologies</td>\n      <td>004 Technologies</td>\n      <td>http://004gmbh.de/en/004-interact</td>\n      <td>Software</td>\n      <td>operating</td>\n      <td>USA</td>\n      <td>IL</td>\n      <td>Springfield, Illinois</td>\n      <td>Champaign</td>\n      <td>1/1/2010</td>\n    </tr>\n    <tr>\n      <th>...</th>\n      <td>...</td>\n      <td>...</td>\n      <td>...</td>\n      <td>...</td>\n      <td>...</td>\n      <td>...</td>\n      <td>...</td>\n      <td>...</td>\n      <td>...</td>\n      <td>...</td>\n      <td>...</td>\n      <td>...</td>\n      <td>...</td>\n      <td>...</td>\n      <td>...</td>\n      <td>...</td>\n    </tr>\n    <tr>\n      <th>114944</th>\n      <td>/organization/zzzzapp-com</td>\n      <td>/funding-round/8f6d25b8ee4199e586484d817bceda05</td>\n      <td>convertible_note</td>\n      <td>NaN</td>\n      <td>1/3/2014</td>\n      <td>41313.0</td>\n      <td>NaN</td>\n      <td>NaN</td>\n      <td>NaN</td>\n      <td>NaN</td>\n      <td>NaN</td>\n      <td>NaN</td>\n      <td>NaN</td>\n      <td>NaN</td>\n      <td>NaN</td>\n      <td>NaN</td>\n    </tr>\n    <tr>\n      <th>114945</th>\n      <td>/ORGANIZATION/ZZZZAPP-COM</td>\n      <td>/funding-round/ff1aa06ed5da186c84f101549035d4ae</td>\n      <td>seed</td>\n      <td>NaN</td>\n      <td>1/5/2013</td>\n      <td>32842.0</td>\n      <td>NaN</td>\n      <td>NaN</td>\n      <td>NaN</td>\n      <td>NaN</td>\n      <td>NaN</td>\n      <td>NaN</td>\n      <td>NaN</td>\n      <td>NaN</td>\n      <td>NaN</td>\n      <td>NaN</td>\n    </tr>\n    <tr>\n      <th>114946</th>\n      <td>/organization/ãeron</td>\n      <td>/funding-round/59f4dce44723b794f21ded3daed6e4fe</td>\n      <td>venture</td>\n      <td>A</td>\n      <td>1/8/2014</td>\n      <td>NaN</td>\n      <td>NaN</td>\n      <td>NaN</td>\n      <td>NaN</td>\n      <td>NaN</td>\n      <td>NaN</td>\n      <td>NaN</td>\n      <td>NaN</td>\n      <td>NaN</td>\n      <td>NaN</td>\n      <td>NaN</td>\n    </tr>\n    <tr>\n      <th>114947</th>\n      <td>/ORGANIZATION/ÃASYS-2</td>\n      <td>/funding-round/35f09d0794651719b02bbfd859ba9ff5</td>\n      <td>seed</td>\n      <td>NaN</td>\n      <td>1/1/2015</td>\n      <td>18192.0</td>\n      <td>NaN</td>\n      <td>NaN</td>\n      <td>NaN</td>\n      <td>NaN</td>\n      <td>NaN</td>\n      <td>NaN</td>\n      <td>NaN</td>\n      <td>NaN</td>\n      <td>NaN</td>\n      <td>NaN</td>\n    </tr>\n    <tr>\n      <th>114948</th>\n      <td>/organization/ä°novatiff-reklam-ve-tanä±tä±m-h...</td>\n      <td>/funding-round/af942869878d2cd788ef5189b435ebc4</td>\n      <td>grant</td>\n      <td>NaN</td>\n      <td>1/10/2013</td>\n      <td>14851.0</td>\n      <td>NaN</td>\n      <td>NaN</td>\n      <td>NaN</td>\n      <td>NaN</td>\n      <td>NaN</td>\n      <td>NaN</td>\n      <td>NaN</td>\n      <td>NaN</td>\n      <td>NaN</td>\n      <td>NaN</td>\n    </tr>\n  </tbody>\n</table>\n<p>114949 rows × 16 columns</p>\n</div>"
     },
     "metadata": {},
     "execution_count": 57
    }
   ],
   "source": [
    "# Question 5) Merge the two data frames so that all variables (columns) in the companies frame are added to the rounds2 data frame. Name the merged frame master_frame. How many observations are present in master_frame\n",
    "\n",
    "# Answer: 181317\n",
    "master_frame = pd.concat([rounds2, companies], axis = 1)\n",
    "master_frame.shape\n",
    "master_frame"
   ]
  },
  {
   "source": [
    "Checkpoint 2: Funding Type Analysis"
   ],
   "cell_type": "markdown",
   "metadata": {}
  },
  {
   "cell_type": "code",
   "execution_count": 36,
   "metadata": {},
   "outputs": [
    {
     "output_type": "execute_result",
     "data": {
      "text/plain": [
       "venture                  55494\n",
       "seed                     30524\n",
       "debt_financing            6895\n",
       "angel                     6094\n",
       "undisclosed               4897\n",
       "equity_crowdfunding       3257\n",
       "private_equity            2285\n",
       "grant                     2200\n",
       "convertible_note          1817\n",
       "post_ipo_equity            638\n",
       "product_crowdfunding       410\n",
       "non_equity_assistance      191\n",
       "post_ipo_debt              152\n",
       "secondary_market            95\n",
       "Name: funding_round_type, dtype: int64"
      ]
     },
     "metadata": {},
     "execution_count": 36
    }
   ],
   "source": [
    "master_frame['funding_round_type'].value_counts()\n",
    "\n",
    "# most of other companies are investing in th\"Venture\"nvestment type. "
   ]
  },
  {
   "cell_type": "code",
   "execution_count": 37,
   "metadata": {},
   "outputs": [
    {
     "output_type": "execute_result",
     "data": {
      "text/plain": [
       "                       raised_amount_usd\n",
       "funding_round_type                      \n",
       "venture                     5.901262e+11\n",
       "private_equity              1.419254e+11\n",
       "debt_financing              1.138848e+11\n",
       "post_ipo_equity             5.161061e+10\n",
       "undisclosed                 3.044143e+10\n",
       "post_ipo_debt               2.564309e+10\n",
       "seed                        1.698986e+10\n",
       "grant                       9.134424e+09\n",
       "angel                       4.659255e+09\n",
       "secondary_market            2.389489e+09\n",
       "convertible_note            2.103126e+09\n",
       "equity_crowdfunding         6.611162e+08\n",
       "product_crowdfunding        5.261686e+08\n",
       "non_equity_assistance       3.001782e+07"
      ],
      "text/html": "<div>\n<style scoped>\n    .dataframe tbody tr th:only-of-type {\n        vertical-align: middle;\n    }\n\n    .dataframe tbody tr th {\n        vertical-align: top;\n    }\n\n    .dataframe thead th {\n        text-align: right;\n    }\n</style>\n<table border=\"1\" class=\"dataframe\">\n  <thead>\n    <tr style=\"text-align: right;\">\n      <th></th>\n      <th>raised_amount_usd</th>\n    </tr>\n    <tr>\n      <th>funding_round_type</th>\n      <th></th>\n    </tr>\n  </thead>\n  <tbody>\n    <tr>\n      <th>venture</th>\n      <td>5.901262e+11</td>\n    </tr>\n    <tr>\n      <th>private_equity</th>\n      <td>1.419254e+11</td>\n    </tr>\n    <tr>\n      <th>debt_financing</th>\n      <td>1.138848e+11</td>\n    </tr>\n    <tr>\n      <th>post_ipo_equity</th>\n      <td>5.161061e+10</td>\n    </tr>\n    <tr>\n      <th>undisclosed</th>\n      <td>3.044143e+10</td>\n    </tr>\n    <tr>\n      <th>post_ipo_debt</th>\n      <td>2.564309e+10</td>\n    </tr>\n    <tr>\n      <th>seed</th>\n      <td>1.698986e+10</td>\n    </tr>\n    <tr>\n      <th>grant</th>\n      <td>9.134424e+09</td>\n    </tr>\n    <tr>\n      <th>angel</th>\n      <td>4.659255e+09</td>\n    </tr>\n    <tr>\n      <th>secondary_market</th>\n      <td>2.389489e+09</td>\n    </tr>\n    <tr>\n      <th>convertible_note</th>\n      <td>2.103126e+09</td>\n    </tr>\n    <tr>\n      <th>equity_crowdfunding</th>\n      <td>6.611162e+08</td>\n    </tr>\n    <tr>\n      <th>product_crowdfunding</th>\n      <td>5.261686e+08</td>\n    </tr>\n    <tr>\n      <th>non_equity_assistance</th>\n      <td>3.001782e+07</td>\n    </tr>\n  </tbody>\n</table>\n</div>"
     },
     "metadata": {},
     "execution_count": 37
    }
   ],
   "source": [
    "import matplotlib.pyplot as plt\n",
    "\n",
    "df_obj = master_frame.groupby('funding_round_type')\n",
    "pd.DataFrame(df_obj['raised_amount_usd'].sum()).sort_values('raised_amount_usd', ascending=False)\n",
    "\n",
    "# Seeing below output, Venture type is giving more returns and most of other companies are investing in this investment type. "
   ]
  },
  {
   "cell_type": "code",
   "execution_count": 38,
   "metadata": {},
   "outputs": [
    {
     "output_type": "execute_result",
     "data": {
      "text/plain": [
       "                       raised_amount_usd\n",
       "funding_round_type                      \n",
       "angel                           400000.0\n",
       "convertible_note                272000.0\n",
       "debt_financing                 1100000.0\n",
       "equity_crowdfunding             100000.0\n",
       "grant                           201684.0\n",
       "non_equity_assistance            60000.0\n",
       "post_ipo_debt                 19950000.0\n",
       "post_ipo_equity               12262852.5\n",
       "private_equity                20000000.0\n",
       "product_crowdfunding            183915.0\n",
       "secondary_market              32600000.0\n",
       "seed                            275000.0\n",
       "undisclosed                    1018680.0\n",
       "venture                        5000000.0"
      ],
      "text/html": "<div>\n<style scoped>\n    .dataframe tbody tr th:only-of-type {\n        vertical-align: middle;\n    }\n\n    .dataframe tbody tr th {\n        vertical-align: top;\n    }\n\n    .dataframe thead th {\n        text-align: right;\n    }\n</style>\n<table border=\"1\" class=\"dataframe\">\n  <thead>\n    <tr style=\"text-align: right;\">\n      <th></th>\n      <th>raised_amount_usd</th>\n    </tr>\n    <tr>\n      <th>funding_round_type</th>\n      <th></th>\n    </tr>\n  </thead>\n  <tbody>\n    <tr>\n      <th>angel</th>\n      <td>400000.0</td>\n    </tr>\n    <tr>\n      <th>convertible_note</th>\n      <td>272000.0</td>\n    </tr>\n    <tr>\n      <th>debt_financing</th>\n      <td>1100000.0</td>\n    </tr>\n    <tr>\n      <th>equity_crowdfunding</th>\n      <td>100000.0</td>\n    </tr>\n    <tr>\n      <th>grant</th>\n      <td>201684.0</td>\n    </tr>\n    <tr>\n      <th>non_equity_assistance</th>\n      <td>60000.0</td>\n    </tr>\n    <tr>\n      <th>post_ipo_debt</th>\n      <td>19950000.0</td>\n    </tr>\n    <tr>\n      <th>post_ipo_equity</th>\n      <td>12262852.5</td>\n    </tr>\n    <tr>\n      <th>private_equity</th>\n      <td>20000000.0</td>\n    </tr>\n    <tr>\n      <th>product_crowdfunding</th>\n      <td>183915.0</td>\n    </tr>\n    <tr>\n      <th>secondary_market</th>\n      <td>32600000.0</td>\n    </tr>\n    <tr>\n      <th>seed</th>\n      <td>275000.0</td>\n    </tr>\n    <tr>\n      <th>undisclosed</th>\n      <td>1018680.0</td>\n    </tr>\n    <tr>\n      <th>venture</th>\n      <td>5000000.0</td>\n    </tr>\n  </tbody>\n</table>\n</div>"
     },
     "metadata": {},
     "execution_count": 38
    }
   ],
   "source": [
    "df_obj = master_frame.groupby('funding_round_type')\n",
    "pd.DataFrame(df_obj['raised_amount_usd'].median())\n",
    "\n",
    "# Unable to boxplot this data, facing difficulty. If we consider Median since mode is not possible,Venture is 5 Million and Private Equity is 20 Million, rest others are less than 5 Million. SO, We conclude that \"VENTURE\" is best suited investment scheme for the company."
   ]
  },
  {
   "cell_type": "code",
   "execution_count": 61,
   "metadata": {},
   "outputs": [
    {
     "output_type": "execute_result",
     "data": {
      "text/plain": [
       "                                        company_permalink  \\\n",
       "0                                     /organization/-fame   \n",
       "1                                  /ORGANIZATION/-QOUNTER   \n",
       "3                     /ORGANIZATION/-THE-ONE-OF-THEM-INC-   \n",
       "4                                   /organization/0-6-com   \n",
       "5                          /ORGANIZATION/004-TECHNOLOGIES   \n",
       "...                                                   ...   \n",
       "114934                                /organization/zyrra   \n",
       "114936                               /organization/zystor   \n",
       "114937                           /ORGANIZATION/ZYTOPROTEC   \n",
       "114941  /ORGANIZATION/ZZNODE-SCIENCE-AND-TECHNOLOGY-CO...   \n",
       "114946                               /organization/ãeron   \n",
       "\n",
       "                                funding_round_permalink funding_round_type  \\\n",
       "0       /funding-round/9a01d05418af9f794eebff7ace91f638            venture   \n",
       "1       /funding-round/22dacff496eb7acb2b901dec1dfe5633            venture   \n",
       "3       /funding-round/650b8f704416801069bb178a1418776b            venture   \n",
       "4       /funding-round/5727accaeaa57461bd22a9bdd945382d            venture   \n",
       "5       /funding-round/1278dd4e6a37fa4b7d7e06c21b3c1830            venture   \n",
       "...                                                 ...                ...   \n",
       "114934  /funding-round/7a0fa791c96c9c447ee54662395beab9            venture   \n",
       "114936  /funding-round/7ea37c0ff4132b084832039a9380d34e            venture   \n",
       "114937  /funding-round/0c43e717298296d2fb334fb236300f6e            venture   \n",
       "114941  /funding-round/171693e1e07e0230defd8fddb6de4515            venture   \n",
       "114946  /funding-round/59f4dce44723b794f21ded3daed6e4fe            venture   \n",
       "\n",
       "       funding_round_code   funded_at  raised_amount_usd  \\\n",
       "0                       B    5/1/2015         10000000.0   \n",
       "1                       A  14-10-2014                NaN   \n",
       "3                       B  30-01-2014          3406878.0   \n",
       "4                       A  19-03-2008          2000000.0   \n",
       "5                     NaN  24-07-2014                NaN   \n",
       "...                   ...         ...                ...   \n",
       "114934                NaN  18-10-2012           140500.0   \n",
       "114936                  A  16-12-2004          8500000.0   \n",
       "114937                  A  29-01-2013          2686600.0   \n",
       "114941                  A    1/4/2012          1587301.0   \n",
       "114946                  A    1/8/2014                NaN   \n",
       "\n",
       "                               permalink                name  \\\n",
       "0                    /Organization/-Fame               #fame   \n",
       "1                 /Organization/-Qounter            :Qounter   \n",
       "3                  /Organization/0-6-Com             0-6.com   \n",
       "4         /Organization/004-Technologies    004 Technologies   \n",
       "5       /Organization/01Games-Technology  01Games Technology   \n",
       "...                                  ...                 ...   \n",
       "114934                               NaN                 NaN   \n",
       "114936                               NaN                 NaN   \n",
       "114937                               NaN                 NaN   \n",
       "114941                               NaN                 NaN   \n",
       "114946                               NaN                 NaN   \n",
       "\n",
       "                             homepage_url  \\\n",
       "0                      http://livfame.com   \n",
       "1                  http://www.qounter.com   \n",
       "3                      http://www.0-6.com   \n",
       "4       http://004gmbh.de/en/004-interact   \n",
       "5                  http://www.01games.hk/   \n",
       "...                                   ...   \n",
       "114934                                NaN   \n",
       "114936                                NaN   \n",
       "114937                                NaN   \n",
       "114941                                NaN   \n",
       "114946                                NaN   \n",
       "\n",
       "                                            category_list     status  \\\n",
       "0                                                   Media  operating   \n",
       "1       Application Platforms|Real Time|Social Network...  operating   \n",
       "3                                             Curated Web  operating   \n",
       "4                                                Software  operating   \n",
       "5                                                   Games  operating   \n",
       "...                                                   ...        ...   \n",
       "114934                                                NaN        NaN   \n",
       "114936                                                NaN        NaN   \n",
       "114937                                                NaN        NaN   \n",
       "114941                                                NaN        NaN   \n",
       "114946                                                NaN        NaN   \n",
       "\n",
       "       country_code state_code                 region           city  \\\n",
       "0               IND         16                 Mumbai         Mumbai   \n",
       "1               USA         DE             DE - Other  Delaware City   \n",
       "3               CHN         22                Beijing        Beijing   \n",
       "4               USA         IL  Springfield, Illinois      Champaign   \n",
       "5               HKG        NaN              Hong Kong      Hong Kong   \n",
       "...             ...        ...                    ...            ...   \n",
       "114934          NaN        NaN                    NaN            NaN   \n",
       "114936          NaN        NaN                    NaN            NaN   \n",
       "114937          NaN        NaN                    NaN            NaN   \n",
       "114941          NaN        NaN                    NaN            NaN   \n",
       "114946          NaN        NaN                    NaN            NaN   \n",
       "\n",
       "       founded_at  \n",
       "0             NaN  \n",
       "1        4/9/2014  \n",
       "3        1/1/2007  \n",
       "4        1/1/2010  \n",
       "5             NaN  \n",
       "...           ...  \n",
       "114934        NaN  \n",
       "114936        NaN  \n",
       "114937        NaN  \n",
       "114941        NaN  \n",
       "114946        NaN  \n",
       "\n",
       "[55494 rows x 16 columns]"
      ],
      "text/html": "<div>\n<style scoped>\n    .dataframe tbody tr th:only-of-type {\n        vertical-align: middle;\n    }\n\n    .dataframe tbody tr th {\n        vertical-align: top;\n    }\n\n    .dataframe thead th {\n        text-align: right;\n    }\n</style>\n<table border=\"1\" class=\"dataframe\">\n  <thead>\n    <tr style=\"text-align: right;\">\n      <th></th>\n      <th>company_permalink</th>\n      <th>funding_round_permalink</th>\n      <th>funding_round_type</th>\n      <th>funding_round_code</th>\n      <th>funded_at</th>\n      <th>raised_amount_usd</th>\n      <th>permalink</th>\n      <th>name</th>\n      <th>homepage_url</th>\n      <th>category_list</th>\n      <th>status</th>\n      <th>country_code</th>\n      <th>state_code</th>\n      <th>region</th>\n      <th>city</th>\n      <th>founded_at</th>\n    </tr>\n  </thead>\n  <tbody>\n    <tr>\n      <th>0</th>\n      <td>/organization/-fame</td>\n      <td>/funding-round/9a01d05418af9f794eebff7ace91f638</td>\n      <td>venture</td>\n      <td>B</td>\n      <td>5/1/2015</td>\n      <td>10000000.0</td>\n      <td>/Organization/-Fame</td>\n      <td>#fame</td>\n      <td>http://livfame.com</td>\n      <td>Media</td>\n      <td>operating</td>\n      <td>IND</td>\n      <td>16</td>\n      <td>Mumbai</td>\n      <td>Mumbai</td>\n      <td>NaN</td>\n    </tr>\n    <tr>\n      <th>1</th>\n      <td>/ORGANIZATION/-QOUNTER</td>\n      <td>/funding-round/22dacff496eb7acb2b901dec1dfe5633</td>\n      <td>venture</td>\n      <td>A</td>\n      <td>14-10-2014</td>\n      <td>NaN</td>\n      <td>/Organization/-Qounter</td>\n      <td>:Qounter</td>\n      <td>http://www.qounter.com</td>\n      <td>Application Platforms|Real Time|Social Network...</td>\n      <td>operating</td>\n      <td>USA</td>\n      <td>DE</td>\n      <td>DE - Other</td>\n      <td>Delaware City</td>\n      <td>4/9/2014</td>\n    </tr>\n    <tr>\n      <th>3</th>\n      <td>/ORGANIZATION/-THE-ONE-OF-THEM-INC-</td>\n      <td>/funding-round/650b8f704416801069bb178a1418776b</td>\n      <td>venture</td>\n      <td>B</td>\n      <td>30-01-2014</td>\n      <td>3406878.0</td>\n      <td>/Organization/0-6-Com</td>\n      <td>0-6.com</td>\n      <td>http://www.0-6.com</td>\n      <td>Curated Web</td>\n      <td>operating</td>\n      <td>CHN</td>\n      <td>22</td>\n      <td>Beijing</td>\n      <td>Beijing</td>\n      <td>1/1/2007</td>\n    </tr>\n    <tr>\n      <th>4</th>\n      <td>/organization/0-6-com</td>\n      <td>/funding-round/5727accaeaa57461bd22a9bdd945382d</td>\n      <td>venture</td>\n      <td>A</td>\n      <td>19-03-2008</td>\n      <td>2000000.0</td>\n      <td>/Organization/004-Technologies</td>\n      <td>004 Technologies</td>\n      <td>http://004gmbh.de/en/004-interact</td>\n      <td>Software</td>\n      <td>operating</td>\n      <td>USA</td>\n      <td>IL</td>\n      <td>Springfield, Illinois</td>\n      <td>Champaign</td>\n      <td>1/1/2010</td>\n    </tr>\n    <tr>\n      <th>5</th>\n      <td>/ORGANIZATION/004-TECHNOLOGIES</td>\n      <td>/funding-round/1278dd4e6a37fa4b7d7e06c21b3c1830</td>\n      <td>venture</td>\n      <td>NaN</td>\n      <td>24-07-2014</td>\n      <td>NaN</td>\n      <td>/Organization/01Games-Technology</td>\n      <td>01Games Technology</td>\n      <td>http://www.01games.hk/</td>\n      <td>Games</td>\n      <td>operating</td>\n      <td>HKG</td>\n      <td>NaN</td>\n      <td>Hong Kong</td>\n      <td>Hong Kong</td>\n      <td>NaN</td>\n    </tr>\n    <tr>\n      <th>...</th>\n      <td>...</td>\n      <td>...</td>\n      <td>...</td>\n      <td>...</td>\n      <td>...</td>\n      <td>...</td>\n      <td>...</td>\n      <td>...</td>\n      <td>...</td>\n      <td>...</td>\n      <td>...</td>\n      <td>...</td>\n      <td>...</td>\n      <td>...</td>\n      <td>...</td>\n      <td>...</td>\n    </tr>\n    <tr>\n      <th>114934</th>\n      <td>/organization/zyrra</td>\n      <td>/funding-round/7a0fa791c96c9c447ee54662395beab9</td>\n      <td>venture</td>\n      <td>NaN</td>\n      <td>18-10-2012</td>\n      <td>140500.0</td>\n      <td>NaN</td>\n      <td>NaN</td>\n      <td>NaN</td>\n      <td>NaN</td>\n      <td>NaN</td>\n      <td>NaN</td>\n      <td>NaN</td>\n      <td>NaN</td>\n      <td>NaN</td>\n      <td>NaN</td>\n    </tr>\n    <tr>\n      <th>114936</th>\n      <td>/organization/zystor</td>\n      <td>/funding-round/7ea37c0ff4132b084832039a9380d34e</td>\n      <td>venture</td>\n      <td>A</td>\n      <td>16-12-2004</td>\n      <td>8500000.0</td>\n      <td>NaN</td>\n      <td>NaN</td>\n      <td>NaN</td>\n      <td>NaN</td>\n      <td>NaN</td>\n      <td>NaN</td>\n      <td>NaN</td>\n      <td>NaN</td>\n      <td>NaN</td>\n      <td>NaN</td>\n    </tr>\n    <tr>\n      <th>114937</th>\n      <td>/ORGANIZATION/ZYTOPROTEC</td>\n      <td>/funding-round/0c43e717298296d2fb334fb236300f6e</td>\n      <td>venture</td>\n      <td>A</td>\n      <td>29-01-2013</td>\n      <td>2686600.0</td>\n      <td>NaN</td>\n      <td>NaN</td>\n      <td>NaN</td>\n      <td>NaN</td>\n      <td>NaN</td>\n      <td>NaN</td>\n      <td>NaN</td>\n      <td>NaN</td>\n      <td>NaN</td>\n      <td>NaN</td>\n    </tr>\n    <tr>\n      <th>114941</th>\n      <td>/ORGANIZATION/ZZNODE-SCIENCE-AND-TECHNOLOGY-CO...</td>\n      <td>/funding-round/171693e1e07e0230defd8fddb6de4515</td>\n      <td>venture</td>\n      <td>A</td>\n      <td>1/4/2012</td>\n      <td>1587301.0</td>\n      <td>NaN</td>\n      <td>NaN</td>\n      <td>NaN</td>\n      <td>NaN</td>\n      <td>NaN</td>\n      <td>NaN</td>\n      <td>NaN</td>\n      <td>NaN</td>\n      <td>NaN</td>\n      <td>NaN</td>\n    </tr>\n    <tr>\n      <th>114946</th>\n      <td>/organization/ãeron</td>\n      <td>/funding-round/59f4dce44723b794f21ded3daed6e4fe</td>\n      <td>venture</td>\n      <td>A</td>\n      <td>1/8/2014</td>\n      <td>NaN</td>\n      <td>NaN</td>\n      <td>NaN</td>\n      <td>NaN</td>\n      <td>NaN</td>\n      <td>NaN</td>\n      <td>NaN</td>\n      <td>NaN</td>\n      <td>NaN</td>\n      <td>NaN</td>\n      <td>NaN</td>\n    </tr>\n  </tbody>\n</table>\n<p>55494 rows × 16 columns</p>\n</div>"
     },
     "metadata": {},
     "execution_count": 61
    }
   ],
   "source": [
    "# considering data frame of most suitable investment type for next steps.\n",
    "master_frame = master_frame.loc[master_frame['funding_round_type']==\"venture\"]\n",
    "master_frame"
   ]
  },
  {
   "source": [
    "Checkpoint 3: Country Analysis"
   ],
   "cell_type": "markdown",
   "metadata": {}
  },
  {
   "cell_type": "code",
   "execution_count": 65,
   "metadata": {},
   "outputs": [
    {
     "output_type": "execute_result",
     "data": {
      "text/plain": [
       "                              company_permalink  \\\n",
       "37569                   /ORGANIZATION/FREESCALE   \n",
       "60207                   /ORGANIZATION/MEDIAVAST   \n",
       "104173                       /ORGANIZATION/UBER   \n",
       "104166                       /organization/uber   \n",
       "112173                     /ORGANIZATION/XIAOMI   \n",
       "...                                         ...   \n",
       "114847                      /ORGANIZATION/ZVOOQ   \n",
       "114860                      /organization/zyfin   \n",
       "114895                   /ORGANIZATION/ZYMOCHEM   \n",
       "114905  /ORGANIZATION/ZYNERGY-PROJECTS-SERVICES   \n",
       "114946                     /organization/ãeron   \n",
       "\n",
       "                                funding_round_permalink funding_round_type  \\\n",
       "37569   /funding-round/a1495c088d886c8a4f4ce74403b77385            venture   \n",
       "60207   /funding-round/07e345b61646adffc65946de6a1c88d9            venture   \n",
       "104173  /funding-round/7a617d3521e9a71816c8d5cbcd4c49b0            venture   \n",
       "104166  /funding-round/1fa1e079dd45f9d615ce1469ed9090fb            venture   \n",
       "112173  /funding-round/0022fc712b8a48fc6b7341c6aa3b42a5            venture   \n",
       "...                                                 ...                ...   \n",
       "114847  /funding-round/e2acbf36798538e3f6aace754ca80345            venture   \n",
       "114860  /funding-round/98cef3afd5e88487a9829ff182fb1a25            venture   \n",
       "114895  /funding-round/7735e006f2ffa443d9d7e2312173bf93            venture   \n",
       "114905  /funding-round/3d7dbd2d92220d93e2b5455f914a0918            venture   \n",
       "114946  /funding-round/59f4dce44723b794f21ded3daed6e4fe            venture   \n",
       "\n",
       "       funding_round_code   funded_at  raised_amount_usd  \\\n",
       "37569                 NaN  21-10-2006       1.760000e+10   \n",
       "60207                   B  30-06-2003       4.700000e+09   \n",
       "104173                  D    6/6/2014       1.200000e+09   \n",
       "104166                  E   4/12/2014       1.200000e+09   \n",
       "112173                  E  22-12-2014       1.100000e+09   \n",
       "...                   ...         ...                ...   \n",
       "114847                NaN    1/6/2011                NaN   \n",
       "114860                  A   1/11/2011                NaN   \n",
       "114895                NaN  16-03-2015                NaN   \n",
       "114905                NaN  19-08-2015                NaN   \n",
       "114946                  A    1/8/2014                NaN   \n",
       "\n",
       "                              permalink               name  \\\n",
       "37569   /Organization/My-Computer-Works  My Computer Works   \n",
       "60207            /Organization/Ubmobile     UBMobile, Inc.   \n",
       "104173                              NaN                NaN   \n",
       "104166                              NaN                NaN   \n",
       "112173                              NaN                NaN   \n",
       "...                                 ...                ...   \n",
       "114847                              NaN                NaN   \n",
       "114860                              NaN                NaN   \n",
       "114895                              NaN                NaN   \n",
       "114905                              NaN                NaN   \n",
       "114946                              NaN                NaN   \n",
       "\n",
       "                      homepage_url category_list     status country_code  \\\n",
       "37569   http://mycomputerworks.com    Consulting  operating          USA   \n",
       "60207          http://ubmobile.com        Mobile  operating          USA   \n",
       "104173                         NaN           NaN        NaN          NaN   \n",
       "104166                         NaN           NaN        NaN          NaN   \n",
       "112173                         NaN           NaN        NaN          NaN   \n",
       "...                            ...           ...        ...          ...   \n",
       "114847                         NaN           NaN        NaN          NaN   \n",
       "114860                         NaN           NaN        NaN          NaN   \n",
       "114895                         NaN           NaN        NaN          NaN   \n",
       "114905                         NaN           NaN        NaN          NaN   \n",
       "114946                         NaN           NaN        NaN          NaN   \n",
       "\n",
       "       state_code       region         city  founded_at  \n",
       "37569          AZ      Phoenix   Scottsdale  15-11-2004  \n",
       "60207          CA  SF Bay Area  San Anselmo    1/3/2013  \n",
       "104173        NaN          NaN          NaN         NaN  \n",
       "104166        NaN          NaN          NaN         NaN  \n",
       "112173        NaN          NaN          NaN         NaN  \n",
       "...           ...          ...          ...         ...  \n",
       "114847        NaN          NaN          NaN         NaN  \n",
       "114860        NaN          NaN          NaN         NaN  \n",
       "114895        NaN          NaN          NaN         NaN  \n",
       "114905        NaN          NaN          NaN         NaN  \n",
       "114946        NaN          NaN          NaN         NaN  \n",
       "\n",
       "[55494 rows x 16 columns]"
      ],
      "text/html": "<div>\n<style scoped>\n    .dataframe tbody tr th:only-of-type {\n        vertical-align: middle;\n    }\n\n    .dataframe tbody tr th {\n        vertical-align: top;\n    }\n\n    .dataframe thead th {\n        text-align: right;\n    }\n</style>\n<table border=\"1\" class=\"dataframe\">\n  <thead>\n    <tr style=\"text-align: right;\">\n      <th></th>\n      <th>company_permalink</th>\n      <th>funding_round_permalink</th>\n      <th>funding_round_type</th>\n      <th>funding_round_code</th>\n      <th>funded_at</th>\n      <th>raised_amount_usd</th>\n      <th>permalink</th>\n      <th>name</th>\n      <th>homepage_url</th>\n      <th>category_list</th>\n      <th>status</th>\n      <th>country_code</th>\n      <th>state_code</th>\n      <th>region</th>\n      <th>city</th>\n      <th>founded_at</th>\n    </tr>\n  </thead>\n  <tbody>\n    <tr>\n      <th>37569</th>\n      <td>/ORGANIZATION/FREESCALE</td>\n      <td>/funding-round/a1495c088d886c8a4f4ce74403b77385</td>\n      <td>venture</td>\n      <td>NaN</td>\n      <td>21-10-2006</td>\n      <td>1.760000e+10</td>\n      <td>/Organization/My-Computer-Works</td>\n      <td>My Computer Works</td>\n      <td>http://mycomputerworks.com</td>\n      <td>Consulting</td>\n      <td>operating</td>\n      <td>USA</td>\n      <td>AZ</td>\n      <td>Phoenix</td>\n      <td>Scottsdale</td>\n      <td>15-11-2004</td>\n    </tr>\n    <tr>\n      <th>60207</th>\n      <td>/ORGANIZATION/MEDIAVAST</td>\n      <td>/funding-round/07e345b61646adffc65946de6a1c88d9</td>\n      <td>venture</td>\n      <td>B</td>\n      <td>30-06-2003</td>\n      <td>4.700000e+09</td>\n      <td>/Organization/Ubmobile</td>\n      <td>UBMobile, Inc.</td>\n      <td>http://ubmobile.com</td>\n      <td>Mobile</td>\n      <td>operating</td>\n      <td>USA</td>\n      <td>CA</td>\n      <td>SF Bay Area</td>\n      <td>San Anselmo</td>\n      <td>1/3/2013</td>\n    </tr>\n    <tr>\n      <th>104173</th>\n      <td>/ORGANIZATION/UBER</td>\n      <td>/funding-round/7a617d3521e9a71816c8d5cbcd4c49b0</td>\n      <td>venture</td>\n      <td>D</td>\n      <td>6/6/2014</td>\n      <td>1.200000e+09</td>\n      <td>NaN</td>\n      <td>NaN</td>\n      <td>NaN</td>\n      <td>NaN</td>\n      <td>NaN</td>\n      <td>NaN</td>\n      <td>NaN</td>\n      <td>NaN</td>\n      <td>NaN</td>\n      <td>NaN</td>\n    </tr>\n    <tr>\n      <th>104166</th>\n      <td>/organization/uber</td>\n      <td>/funding-round/1fa1e079dd45f9d615ce1469ed9090fb</td>\n      <td>venture</td>\n      <td>E</td>\n      <td>4/12/2014</td>\n      <td>1.200000e+09</td>\n      <td>NaN</td>\n      <td>NaN</td>\n      <td>NaN</td>\n      <td>NaN</td>\n      <td>NaN</td>\n      <td>NaN</td>\n      <td>NaN</td>\n      <td>NaN</td>\n      <td>NaN</td>\n      <td>NaN</td>\n    </tr>\n    <tr>\n      <th>112173</th>\n      <td>/ORGANIZATION/XIAOMI</td>\n      <td>/funding-round/0022fc712b8a48fc6b7341c6aa3b42a5</td>\n      <td>venture</td>\n      <td>E</td>\n      <td>22-12-2014</td>\n      <td>1.100000e+09</td>\n      <td>NaN</td>\n      <td>NaN</td>\n      <td>NaN</td>\n      <td>NaN</td>\n      <td>NaN</td>\n      <td>NaN</td>\n      <td>NaN</td>\n      <td>NaN</td>\n      <td>NaN</td>\n      <td>NaN</td>\n    </tr>\n    <tr>\n      <th>...</th>\n      <td>...</td>\n      <td>...</td>\n      <td>...</td>\n      <td>...</td>\n      <td>...</td>\n      <td>...</td>\n      <td>...</td>\n      <td>...</td>\n      <td>...</td>\n      <td>...</td>\n      <td>...</td>\n      <td>...</td>\n      <td>...</td>\n      <td>...</td>\n      <td>...</td>\n      <td>...</td>\n    </tr>\n    <tr>\n      <th>114847</th>\n      <td>/ORGANIZATION/ZVOOQ</td>\n      <td>/funding-round/e2acbf36798538e3f6aace754ca80345</td>\n      <td>venture</td>\n      <td>NaN</td>\n      <td>1/6/2011</td>\n      <td>NaN</td>\n      <td>NaN</td>\n      <td>NaN</td>\n      <td>NaN</td>\n      <td>NaN</td>\n      <td>NaN</td>\n      <td>NaN</td>\n      <td>NaN</td>\n      <td>NaN</td>\n      <td>NaN</td>\n      <td>NaN</td>\n    </tr>\n    <tr>\n      <th>114860</th>\n      <td>/organization/zyfin</td>\n      <td>/funding-round/98cef3afd5e88487a9829ff182fb1a25</td>\n      <td>venture</td>\n      <td>A</td>\n      <td>1/11/2011</td>\n      <td>NaN</td>\n      <td>NaN</td>\n      <td>NaN</td>\n      <td>NaN</td>\n      <td>NaN</td>\n      <td>NaN</td>\n      <td>NaN</td>\n      <td>NaN</td>\n      <td>NaN</td>\n      <td>NaN</td>\n      <td>NaN</td>\n    </tr>\n    <tr>\n      <th>114895</th>\n      <td>/ORGANIZATION/ZYMOCHEM</td>\n      <td>/funding-round/7735e006f2ffa443d9d7e2312173bf93</td>\n      <td>venture</td>\n      <td>NaN</td>\n      <td>16-03-2015</td>\n      <td>NaN</td>\n      <td>NaN</td>\n      <td>NaN</td>\n      <td>NaN</td>\n      <td>NaN</td>\n      <td>NaN</td>\n      <td>NaN</td>\n      <td>NaN</td>\n      <td>NaN</td>\n      <td>NaN</td>\n      <td>NaN</td>\n    </tr>\n    <tr>\n      <th>114905</th>\n      <td>/ORGANIZATION/ZYNERGY-PROJECTS-SERVICES</td>\n      <td>/funding-round/3d7dbd2d92220d93e2b5455f914a0918</td>\n      <td>venture</td>\n      <td>NaN</td>\n      <td>19-08-2015</td>\n      <td>NaN</td>\n      <td>NaN</td>\n      <td>NaN</td>\n      <td>NaN</td>\n      <td>NaN</td>\n      <td>NaN</td>\n      <td>NaN</td>\n      <td>NaN</td>\n      <td>NaN</td>\n      <td>NaN</td>\n      <td>NaN</td>\n    </tr>\n    <tr>\n      <th>114946</th>\n      <td>/organization/ãeron</td>\n      <td>/funding-round/59f4dce44723b794f21ded3daed6e4fe</td>\n      <td>venture</td>\n      <td>A</td>\n      <td>1/8/2014</td>\n      <td>NaN</td>\n      <td>NaN</td>\n      <td>NaN</td>\n      <td>NaN</td>\n      <td>NaN</td>\n      <td>NaN</td>\n      <td>NaN</td>\n      <td>NaN</td>\n      <td>NaN</td>\n      <td>NaN</td>\n      <td>NaN</td>\n    </tr>\n  </tbody>\n</table>\n<p>55494 rows × 16 columns</p>\n</div>"
     },
     "metadata": {},
     "execution_count": 65
    }
   ],
   "source": [
    "# Getting list of top 9 countries with highest investments in VENTURE type.\n",
    "top9 = master_frame.sort_values('raised_amount_usd', ascending=False)\n",
    "top9"
   ]
  },
  {
   "cell_type": "code",
   "execution_count": 74,
   "metadata": {},
   "outputs": [
    {
     "output_type": "execute_result",
     "data": {
      "text/plain": [
       "raised_amount_usd  country_code\n",
       "0.000000e+00       USA             10\n",
       "                   GBR              4\n",
       "                   ESP              1\n",
       "                   ISR              1\n",
       "2.000000e+00       KOR              1\n",
       "                                   ..\n",
       "8.500000e+08       USA              1\n",
       "9.500000e+08       USA              1\n",
       "1.000000e+09       USA              1\n",
       "4.700000e+09       USA              1\n",
       "1.760000e+10       USA              1\n",
       "Name: country_code, Length: 10774, dtype: int64"
      ]
     },
     "metadata": {},
     "execution_count": 74
    }
   ],
   "source": [
    "obj = top9.groupby('raised_amount_usd')\n",
    "obj['country_code'].value_counts()\n",
    "\n",
    "# Hence, TOP 3 english speaking countries are : 1) USA 2) GBR 3) ESP in order."
   ]
  },
  {
   "source": [
    "Checkpoint 4: Sector Analysis 1"
   ],
   "cell_type": "markdown",
   "metadata": {}
  },
  {
   "cell_type": "code",
   "execution_count": null,
   "metadata": {},
   "outputs": [],
   "source": []
  }
 ]
}