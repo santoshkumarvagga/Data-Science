{
 "metadata": {
  "language_info": {
   "codemirror_mode": {
    "name": "ipython",
    "version": 3
   },
   "file_extension": ".py",
   "mimetype": "text/x-python",
   "name": "python",
   "nbconvert_exporter": "python",
   "pygments_lexer": "ipython3",
   "version": "3.8.3-final"
  },
  "orig_nbformat": 2,
  "kernelspec": {
   "name": "python3",
   "display_name": "Python 3"
  }
 },
 "nbformat": 4,
 "nbformat_minor": 2,
 "cells": [
  {
   "source": [
    "## Introduction to Pandas: Series and Dataframes"
   ],
   "cell_type": "markdown",
   "metadata": {}
  },
  {
   "source": [
    "Series: like one dimensional array, not restricted to just numeric types, optimised for iterating through values. Built on top of numpy.\n",
    "\n",
    "Dataframe : like Two dimensional array with row indices and column names. Can contain Mixed type attributes."
   ],
   "cell_type": "markdown",
   "metadata": {}
  },
  {
   "source": [
    "Series:"
   ],
   "cell_type": "markdown",
   "metadata": {}
  },
  {
   "source": [
    "# Create a Series : using pd.Series(numpy_array)\n",
    "import pandas as pd \n",
    "import numpy as np\n",
    "\n",
    "m = pd.Series([1,2,3,4,5])\n",
    "\n",
    "# print m\n",
    "m"
   ],
   "cell_type": "code",
   "metadata": {},
   "execution_count": 89,
   "outputs": [
    {
     "output_type": "execute_result",
     "data": {
      "text/plain": [
       "0    1\n",
       "1    2\n",
       "2    3\n",
       "3    4\n",
       "4    5\n",
       "dtype: int64"
      ]
     },
     "metadata": {},
     "execution_count": 89
    }
   ]
  },
  {
   "source": [
    "# Accessing elements of a series : like a 1d list \n",
    "# to print single index\n",
    "m[1]"
   ],
   "cell_type": "code",
   "metadata": {},
   "execution_count": 90,
   "outputs": [
    {
     "output_type": "execute_result",
     "data": {
      "text/plain": [
       "2"
      ]
     },
     "metadata": {},
     "execution_count": 90
    }
   ]
  },
  {
   "cell_type": "code",
   "execution_count": 91,
   "metadata": {},
   "outputs": [
    {
     "output_type": "execute_result",
     "data": {
      "text/plain": [
       "1    2\n",
       "2    3\n",
       "3    4\n",
       "4    5\n",
       "dtype: int64"
      ]
     },
     "metadata": {},
     "execution_count": 91
    }
   ],
   "source": [
    "# to print set of indices(rows) : print all rows from index 1\n",
    "m[1:]"
   ]
  },
  {
   "source": [
    "# we can print random indexed rows \n",
    "# NOTE: m[1,3] will not work to print indices 1 and 3, We need pass in a list like [1,3] in original []\n",
    "m[[1,3]]\n"
   ],
   "cell_type": "code",
   "metadata": {},
   "execution_count": 92,
   "outputs": [
    {
     "output_type": "execute_result",
     "data": {
      "text/plain": [
       "1    2\n",
       "3    4\n",
       "dtype: int64"
      ]
     },
     "metadata": {},
     "execution_count": 92
    }
   ]
  },
  {
   "cell_type": "code",
   "execution_count": 93,
   "metadata": {},
   "outputs": [
    {
     "output_type": "error",
     "ename": "AttributeError",
     "evalue": "'numpy.ndarray' object has no attribute 'apply'",
     "traceback": [
      "\u001b[1;31m---------------------------------------------------------------------------\u001b[0m",
      "\u001b[1;31mAttributeError\u001b[0m                            Traceback (most recent call last)",
      "\u001b[1;32m<ipython-input-93-3974c2b372d2>\u001b[0m in \u001b[0;36m<module>\u001b[1;34m\u001b[0m\n\u001b[0;32m      1\u001b[0m \u001b[1;31m#To contrast with numpy array and pandas series, we have an apply() that applies a function to each element of it. and this is supported only for pandas series.\u001b[0m\u001b[1;33m\u001b[0m\u001b[1;33m\u001b[0m\u001b[1;33m\u001b[0m\u001b[0m\n\u001b[1;32m----> 2\u001b[1;33m \u001b[0mnp\u001b[0m\u001b[1;33m.\u001b[0m\u001b[0marange\u001b[0m\u001b[1;33m(\u001b[0m\u001b[1;36m10\u001b[0m\u001b[1;33m)\u001b[0m\u001b[1;33m.\u001b[0m\u001b[0mapply\u001b[0m\u001b[1;33m(\u001b[0m\u001b[1;32mlambda\u001b[0m \u001b[0mx\u001b[0m\u001b[1;33m:\u001b[0m\u001b[0mx\u001b[0m\u001b[1;33m+\u001b[0m\u001b[1;36m1\u001b[0m\u001b[1;33m)\u001b[0m\u001b[1;33m\u001b[0m\u001b[1;33m\u001b[0m\u001b[0m\n\u001b[0m",
      "\u001b[1;31mAttributeError\u001b[0m: 'numpy.ndarray' object has no attribute 'apply'"
     ]
    }
   ],
   "source": [
    "#To contrast with numpy array and pandas series, we have an apply() that applies a function to each element of it. and this is supported only for pandas series.\n",
    "np.arange(10).apply(lambda x:x+1)"
   ]
  },
  {
   "cell_type": "code",
   "execution_count": null,
   "metadata": {},
   "outputs": [],
   "source": [
    "pd.Series([1,2,3,4]).apply(lambda x:x+1)"
   ]
  },
  {
   "source": [
    "Dataframes: Real world data is mentioned i this format. Every row is an object and every column is an attribute."
   ],
   "cell_type": "markdown",
   "metadata": {}
  },
  {
   "source": [
    "Creating Dataframes : many Ways\n",
    "1) from Dictionary\n",
    "2) from csv file\n",
    "3) from json file\n",
    "4) from text file"
   ],
   "cell_type": "code",
   "metadata": {},
   "execution_count": null,
   "outputs": []
  },
  {
   "cell_type": "code",
   "execution_count": null,
   "metadata": {},
   "outputs": [],
   "source": [
    "# 1) from Dictionary:\n",
    "df = pd.DataFrame({'Name':['Santoshkumar vagga', 'Suraj Chauhan', 'Satish Biradar', 'Uday Poddar'],\n",
    "                    'Age':[25,26,24,27],\n",
    "                    'Education':['M.Sc','M.D', 'B.E', 'M.E']})\n",
    "df"
   ]
  },
  {
   "cell_type": "code",
   "execution_count": null,
   "metadata": {},
   "outputs": [],
   "source": [
    "# 2) from csv: NOTE: Save as CSV(Comma delimited)\n",
    "df = pd.read_csv(\"sample_book.csv\")\n",
    "df"
   ]
  },
  {
   "source": [
    "Reading and Summarising Dataframes"
   ],
   "cell_type": "markdown",
   "metadata": {}
  },
  {
   "cell_type": "code",
   "execution_count": null,
   "metadata": {},
   "outputs": [],
   "source": [
    "# Print top 5 rows\n",
    "df.head()"
   ]
  },
  {
   "cell_type": "code",
   "execution_count": null,
   "metadata": {},
   "outputs": [],
   "source": [
    "# print last 5 rows\n",
    "df.tail()"
   ]
  },
  {
   "cell_type": "code",
   "execution_count": null,
   "metadata": {},
   "outputs": [],
   "source": [
    "# to know datatypes of each column\n",
    "df.info()"
   ]
  },
  {
   "cell_type": "code",
   "execution_count": null,
   "metadata": {},
   "outputs": [],
   "source": [
    "# to know total rows and columns\n",
    "df.shape"
   ]
  },
  {
   "cell_type": "code",
   "execution_count": null,
   "metadata": {},
   "outputs": [],
   "source": [
    "# to get numerical statistics of each column like mean, min, max(only for numeric type columns)\n",
    "df.describe()"
   ]
  },
  {
   "cell_type": "code",
   "execution_count": null,
   "metadata": {},
   "outputs": [],
   "source": [
    "# get all column names of dataframe\n",
    "df.columns"
   ]
  },
  {
   "cell_type": "code",
   "execution_count": null,
   "metadata": {},
   "outputs": [],
   "source": [
    "# get each row as numpy array\n",
    "df.values"
   ]
  },
  {
   "source": [
    "Set custom index column: using set_index()"
   ],
   "cell_type": "markdown",
   "metadata": {}
  },
  {
   "cell_type": "code",
   "execution_count": null,
   "metadata": {},
   "outputs": [],
   "source": [
    "df = pd.read_csv(\"sample_book.csv\")\n",
    "df.set_index('Team', inplace=True)\n",
    "df"
   ]
  },
  {
   "source": [
    "Sorting Dataframes:\n"
   ],
   "cell_type": "markdown",
   "metadata": {}
  },
  {
   "source": [
    "1) Sorting Index:"
   ],
   "cell_type": "markdown",
   "metadata": {}
  },
  {
   "cell_type": "code",
   "execution_count": null,
   "metadata": {},
   "outputs": [],
   "source": [
    "# 1) Sort Index: using sort_index() \n",
    "df = pd.read_csv(\"sample_book.csv\")\n",
    "df.set_index('Team', inplace=True)\n",
    "df.sort_index(ascending=True, inplace = True)\n",
    "df"
   ]
  },
  {
   "source": [
    "2) Sorting Values: We can also sort by any custom column(s)"
   ],
   "cell_type": "markdown",
   "metadata": {}
  },
  {
   "source": [
    "# using sort_values(axis=0, ascending = Truem inplace=True)\n",
    "# Note: if axis =1, it considers coulumn wise. if axis = 0, then it considers row wise."
   ],
   "cell_type": "code",
   "metadata": {},
   "execution_count": null,
   "outputs": []
  },
  {
   "cell_type": "code",
   "execution_count": null,
   "metadata": {},
   "outputs": [],
   "source": [
    "df.sort_values('Squad_team', ascending=False, inplace=True)\n",
    "df"
   ]
  },
  {
   "cell_type": "code",
   "execution_count": null,
   "metadata": {},
   "outputs": [],
   "source": [
    "# We can also perform sorting using >1 columns: It will sort using second column , then for the result it applies sorting based on first column given. (REVERSE order)\n",
    "df.sort_values(by=['Total_Seasons', 'Squad_team'], ascending=True, inplace=True)\n",
    "df"
   ]
  },
  {
   "source": [
    "Indexing and Selecting data:"
   ],
   "cell_type": "markdown",
   "metadata": {}
  },
  {
   "source": [
    "1) Selecting rows from a dataframe\n",
    "2) Selecting columns from a dataframe\n",
    "3) Selecting columns from a dataframe"
   ],
   "cell_type": "markdown",
   "metadata": {}
  },
  {
   "cell_type": "code",
   "execution_count": null,
   "metadata": {},
   "outputs": [],
   "source": [
    "# 1) Selecting rows:\n",
    "df[2:6] "
   ]
  },
  {
   "cell_type": "code",
   "execution_count": null,
   "metadata": {},
   "outputs": [],
   "source": [
    "# Selecting alternate rows (from 3rd row to till last but in alternate fashion)\n",
    "df[3::2]"
   ]
  },
  {
   "source": [
    "# 2) Selecting Columns: Each Column is a pandas series. 2 ways: a) using [] 2) using .NOTE: We can extract both as Series and Dataframe\n",
    "# a) using [] : as Series.\n",
    "df['Captain']\n"
   ],
   "cell_type": "code",
   "metadata": {},
   "execution_count": null,
   "outputs": []
  },
  {
   "cell_type": "code",
   "execution_count": null,
   "metadata": {},
   "outputs": [],
   "source": [
    "type(df['Captain'])"
   ]
  },
  {
   "cell_type": "code",
   "execution_count": null,
   "metadata": {},
   "outputs": [],
   "source": [
    "# b) using . : as Series\n",
    "df.Captain\n"
   ]
  },
  {
   "cell_type": "code",
   "execution_count": null,
   "metadata": {},
   "outputs": [],
   "source": [
    "type(df.Captain)"
   ]
  },
  {
   "cell_type": "code",
   "execution_count": null,
   "metadata": {},
   "outputs": [],
   "source": [
    "# as Dataframe : Just embed in []\n",
    "df[[\"Captain\"]]"
   ]
  },
  {
   "cell_type": "code",
   "execution_count": null,
   "metadata": {},
   "outputs": [],
   "source": [
    "type(df[[\"Captain\"]])"
   ]
  },
  {
   "cell_type": "code",
   "execution_count": null,
   "metadata": {},
   "outputs": [],
   "source": [
    "# Selecting multiple columns : returns always a Dataframe\n",
    "# NOTE: dont specify Index in list, since it appears by default for every row\n",
    "df[['Captain', 'Total_Seasons']]"
   ]
  },
  {
   "cell_type": "code",
   "execution_count": null,
   "metadata": {},
   "outputs": [],
   "source": [
    "type(df[['Captain', 'Total_Seasons']])"
   ]
  },
  {
   "cell_type": "code",
   "execution_count": null,
   "metadata": {},
   "outputs": [],
   "source": [
    "# Unlike Series(1D array), We cannot access a Dataframe by Just One parameter like Dataframe[2]. "
   ]
  },
  {
   "cell_type": "code",
   "execution_count": 34,
   "metadata": {},
   "outputs": [
    {
     "output_type": "execute_result",
     "data": {
      "text/plain": [
       "           Captain   Vice_Captain  Won_times  Total_Seasons  Squad_team\n",
       "Team                                                                   \n",
       "SRH        Dwarner       M Pandey        1.0              7          39\n",
       "KKR       D Kartik       A Russel        2.0              8          38\n",
       "RR         S Smith       A Rahane        1.0              8          39\n",
       "CSK       MS Dhoni       A Jadeja        3.0             10          41\n",
       "KXP       KL Rahul      M Agarwal        NaN             11          42\n",
       "MI    Rohit Sharma      K Pollard        5.0             12          38\n",
       "DC          S Iyer         R Pant        2.0             12          40\n",
       "RCB    Virat Kohli  AB de villers        NaN             12          40"
      ],
      "text/html": "<div>\n<style scoped>\n    .dataframe tbody tr th:only-of-type {\n        vertical-align: middle;\n    }\n\n    .dataframe tbody tr th {\n        vertical-align: top;\n    }\n\n    .dataframe thead th {\n        text-align: right;\n    }\n</style>\n<table border=\"1\" class=\"dataframe\">\n  <thead>\n    <tr style=\"text-align: right;\">\n      <th></th>\n      <th>Captain</th>\n      <th>Vice_Captain</th>\n      <th>Won_times</th>\n      <th>Total_Seasons</th>\n      <th>Squad_team</th>\n    </tr>\n    <tr>\n      <th>Team</th>\n      <th></th>\n      <th></th>\n      <th></th>\n      <th></th>\n      <th></th>\n    </tr>\n  </thead>\n  <tbody>\n    <tr>\n      <th>SRH</th>\n      <td>Dwarner</td>\n      <td>M Pandey</td>\n      <td>1.0</td>\n      <td>7</td>\n      <td>39</td>\n    </tr>\n    <tr>\n      <th>KKR</th>\n      <td>D Kartik</td>\n      <td>A Russel</td>\n      <td>2.0</td>\n      <td>8</td>\n      <td>38</td>\n    </tr>\n    <tr>\n      <th>RR</th>\n      <td>S Smith</td>\n      <td>A Rahane</td>\n      <td>1.0</td>\n      <td>8</td>\n      <td>39</td>\n    </tr>\n    <tr>\n      <th>CSK</th>\n      <td>MS Dhoni</td>\n      <td>A Jadeja</td>\n      <td>3.0</td>\n      <td>10</td>\n      <td>41</td>\n    </tr>\n    <tr>\n      <th>KXP</th>\n      <td>KL Rahul</td>\n      <td>M Agarwal</td>\n      <td>NaN</td>\n      <td>11</td>\n      <td>42</td>\n    </tr>\n    <tr>\n      <th>MI</th>\n      <td>Rohit Sharma</td>\n      <td>K Pollard</td>\n      <td>5.0</td>\n      <td>12</td>\n      <td>38</td>\n    </tr>\n    <tr>\n      <th>DC</th>\n      <td>S Iyer</td>\n      <td>R Pant</td>\n      <td>2.0</td>\n      <td>12</td>\n      <td>40</td>\n    </tr>\n    <tr>\n      <th>RCB</th>\n      <td>Virat Kohli</td>\n      <td>AB de villers</td>\n      <td>NaN</td>\n      <td>12</td>\n      <td>40</td>\n    </tr>\n  </tbody>\n</table>\n</div>"
     },
     "metadata": {},
     "execution_count": 34
    }
   ],
   "source": [
    "df"
   ]
  },
  {
   "cell_type": "code",
   "execution_count": 33,
   "metadata": {},
   "outputs": [
    {
     "output_type": "execute_result",
     "data": {
      "text/plain": [
       "       Captain Vice_Captain  Won_times  Total_Seasons  Squad_team\n",
       "Team                                                             \n",
       "RR     S Smith     A Rahane        1.0              8          39\n",
       "KXP   KL Rahul    M Agarwal        NaN             11          42\n",
       "DC      S Iyer       R Pant        2.0             12          40"
      ],
      "text/html": "<div>\n<style scoped>\n    .dataframe tbody tr th:only-of-type {\n        vertical-align: middle;\n    }\n\n    .dataframe tbody tr th {\n        vertical-align: top;\n    }\n\n    .dataframe thead th {\n        text-align: right;\n    }\n</style>\n<table border=\"1\" class=\"dataframe\">\n  <thead>\n    <tr style=\"text-align: right;\">\n      <th></th>\n      <th>Captain</th>\n      <th>Vice_Captain</th>\n      <th>Won_times</th>\n      <th>Total_Seasons</th>\n      <th>Squad_team</th>\n    </tr>\n    <tr>\n      <th>Team</th>\n      <th></th>\n      <th></th>\n      <th></th>\n      <th></th>\n      <th></th>\n    </tr>\n  </thead>\n  <tbody>\n    <tr>\n      <th>RR</th>\n      <td>S Smith</td>\n      <td>A Rahane</td>\n      <td>1.0</td>\n      <td>8</td>\n      <td>39</td>\n    </tr>\n    <tr>\n      <th>KXP</th>\n      <td>KL Rahul</td>\n      <td>M Agarwal</td>\n      <td>NaN</td>\n      <td>11</td>\n      <td>42</td>\n    </tr>\n    <tr>\n      <th>DC</th>\n      <td>S Iyer</td>\n      <td>R Pant</td>\n      <td>2.0</td>\n      <td>12</td>\n      <td>40</td>\n    </tr>\n  </tbody>\n</table>\n</div>"
     },
     "metadata": {},
     "execution_count": 33
    }
   ],
   "source": [
    "# To print only even number rows in Dataframe\n",
    "df[2::2]"
   ]
  },
  {
   "source": [
    "## Pandas recommneds to use below 2 approcahes for indexing, subsetting. Since they are more explicit.\n",
    "#1) Position based Indexing: using df.iloc\n",
    "#2) Label based indexing: using df.loc"
   ],
   "cell_type": "markdown",
   "metadata": {}
  },
  {
   "source": [
    "# 1) Position based Indexing: # Use help(pd.DataFrame.iloc) for detailed info\n",
    "# df.iloc[  a , b ] \n",
    "# a = row info, can be single digit or a list. \n",
    "# b = column info, can be single digit or a list\n",
    "\n",
    "# Possible Combinations for a or b:\n",
    "# m:n\n",
    "# here, m is starting index and n-1 is ending Index "
   ],
   "cell_type": "code",
   "metadata": {},
   "execution_count": 45,
   "outputs": []
  },
  {
   "cell_type": "code",
   "execution_count": 51,
   "metadata": {},
   "outputs": [
    {
     "output_type": "execute_result",
     "data": {
      "text/plain": [
       "Captain           S Smith\n",
       "Vice_Captain     A Rahane\n",
       "Won_times               1\n",
       "Total_Seasons           8\n",
       "Squad_team             39\n",
       "Name: RR, dtype: object"
      ]
     },
     "metadata": {},
     "execution_count": 51
    }
   ],
   "source": [
    "df.iloc[2] # series output, print third row, all columns"
   ]
  },
  {
   "cell_type": "code",
   "execution_count": 50,
   "metadata": {},
   "outputs": [
    {
     "output_type": "execute_result",
     "data": {
      "text/plain": [
       "      Captain Vice_Captain  Won_times  Total_Seasons  Squad_team\n",
       "Team                                                            \n",
       "RR    S Smith     A Rahane        1.0              8          39"
      ],
      "text/html": "<div>\n<style scoped>\n    .dataframe tbody tr th:only-of-type {\n        vertical-align: middle;\n    }\n\n    .dataframe tbody tr th {\n        vertical-align: top;\n    }\n\n    .dataframe thead th {\n        text-align: right;\n    }\n</style>\n<table border=\"1\" class=\"dataframe\">\n  <thead>\n    <tr style=\"text-align: right;\">\n      <th></th>\n      <th>Captain</th>\n      <th>Vice_Captain</th>\n      <th>Won_times</th>\n      <th>Total_Seasons</th>\n      <th>Squad_team</th>\n    </tr>\n    <tr>\n      <th>Team</th>\n      <th></th>\n      <th></th>\n      <th></th>\n      <th></th>\n      <th></th>\n    </tr>\n  </thead>\n  <tbody>\n    <tr>\n      <th>RR</th>\n      <td>S Smith</td>\n      <td>A Rahane</td>\n      <td>1.0</td>\n      <td>8</td>\n      <td>39</td>\n    </tr>\n  </tbody>\n</table>\n</div>"
     },
     "metadata": {},
     "execution_count": 50
    }
   ],
   "source": [
    "df.iloc[[2]] # Dataframe output, print tird row, all columns"
   ]
  },
  {
   "cell_type": "code",
   "execution_count": 57,
   "metadata": {},
   "outputs": [
    {
     "output_type": "execute_result",
     "data": {
      "text/plain": [
       "     Vice_Captain  Won_times  Total_Seasons\n",
       "Team                                       \n",
       "RR       A Rahane        1.0              8\n",
       "CSK      A Jadeja        3.0             10\n",
       "KXP     M Agarwal        NaN             11"
      ],
      "text/html": "<div>\n<style scoped>\n    .dataframe tbody tr th:only-of-type {\n        vertical-align: middle;\n    }\n\n    .dataframe tbody tr th {\n        vertical-align: top;\n    }\n\n    .dataframe thead th {\n        text-align: right;\n    }\n</style>\n<table border=\"1\" class=\"dataframe\">\n  <thead>\n    <tr style=\"text-align: right;\">\n      <th></th>\n      <th>Vice_Captain</th>\n      <th>Won_times</th>\n      <th>Total_Seasons</th>\n    </tr>\n    <tr>\n      <th>Team</th>\n      <th></th>\n      <th></th>\n      <th></th>\n    </tr>\n  </thead>\n  <tbody>\n    <tr>\n      <th>RR</th>\n      <td>A Rahane</td>\n      <td>1.0</td>\n      <td>8</td>\n    </tr>\n    <tr>\n      <th>CSK</th>\n      <td>A Jadeja</td>\n      <td>3.0</td>\n      <td>10</td>\n    </tr>\n    <tr>\n      <th>KXP</th>\n      <td>M Agarwal</td>\n      <td>NaN</td>\n      <td>11</td>\n    </tr>\n  </tbody>\n</table>\n</div>"
     },
     "metadata": {},
     "execution_count": 57
    }
   ],
   "source": [
    "df.iloc[[2,3,4],[1,2,3]] # 3,4,5th rows and 2,3,4th columns"
   ]
  },
  {
   "cell_type": "code",
   "execution_count": 58,
   "metadata": {},
   "outputs": [
    {
     "output_type": "execute_result",
     "data": {
      "text/plain": [
       "      Total_Seasons  Squad_team\n",
       "Team                           \n",
       "RR                8          39\n",
       "CSK              10          41\n",
       "KXP              11          42\n",
       "MI               12          38"
      ],
      "text/html": "<div>\n<style scoped>\n    .dataframe tbody tr th:only-of-type {\n        vertical-align: middle;\n    }\n\n    .dataframe tbody tr th {\n        vertical-align: top;\n    }\n\n    .dataframe thead th {\n        text-align: right;\n    }\n</style>\n<table border=\"1\" class=\"dataframe\">\n  <thead>\n    <tr style=\"text-align: right;\">\n      <th></th>\n      <th>Total_Seasons</th>\n      <th>Squad_team</th>\n    </tr>\n    <tr>\n      <th>Team</th>\n      <th></th>\n      <th></th>\n    </tr>\n  </thead>\n  <tbody>\n    <tr>\n      <th>RR</th>\n      <td>8</td>\n      <td>39</td>\n    </tr>\n    <tr>\n      <th>CSK</th>\n      <td>10</td>\n      <td>41</td>\n    </tr>\n    <tr>\n      <th>KXP</th>\n      <td>11</td>\n      <td>42</td>\n    </tr>\n    <tr>\n      <th>MI</th>\n      <td>12</td>\n      <td>38</td>\n    </tr>\n  </tbody>\n</table>\n</div>"
     },
     "metadata": {},
     "execution_count": 58
    }
   ],
   "source": [
    "df.iloc[2:6,3:5] # 3,4,5,6th row and 4, 5th column"
   ]
  },
  {
   "cell_type": "code",
   "execution_count": 60,
   "metadata": {},
   "outputs": [
    {
     "output_type": "error",
     "ename": "SyntaxError",
     "evalue": "invalid syntax (<ipython-input-60-d9dc4857998e>, line 1)",
     "traceback": [
      "\u001b[1;36m  File \u001b[1;32m\"<ipython-input-60-d9dc4857998e>\"\u001b[1;36m, line \u001b[1;32m1\u001b[0m\n\u001b[1;33m    df.iloc[[2:4]]\u001b[0m\n\u001b[1;37m              ^\u001b[0m\n\u001b[1;31mSyntaxError\u001b[0m\u001b[1;31m:\u001b[0m invalid syntax\n"
     ]
    }
   ],
   "source": [
    "df.iloc[[2:4]]"
   ]
  },
  {
   "cell_type": "code",
   "execution_count": 96,
   "metadata": {},
   "outputs": [
    {
     "output_type": "execute_result",
     "data": {
      "text/plain": [
       "           Captain   Vice_Captain  Won_times  Total_Seasons  Squad_team\n",
       "Team                                                                   \n",
       "SRH        Dwarner       M Pandey        1.0              7          39\n",
       "KKR       D Kartik       A Russel        2.0              8          38\n",
       "CSK       MS Dhoni       A Jadeja        3.0             10          41\n",
       "MI    Rohit Sharma      K Pollard        5.0             12          38\n",
       "RCB    Virat Kohli  AB de villers        NaN             12          40"
      ],
      "text/html": "<div>\n<style scoped>\n    .dataframe tbody tr th:only-of-type {\n        vertical-align: middle;\n    }\n\n    .dataframe tbody tr th {\n        vertical-align: top;\n    }\n\n    .dataframe thead th {\n        text-align: right;\n    }\n</style>\n<table border=\"1\" class=\"dataframe\">\n  <thead>\n    <tr style=\"text-align: right;\">\n      <th></th>\n      <th>Captain</th>\n      <th>Vice_Captain</th>\n      <th>Won_times</th>\n      <th>Total_Seasons</th>\n      <th>Squad_team</th>\n    </tr>\n    <tr>\n      <th>Team</th>\n      <th></th>\n      <th></th>\n      <th></th>\n      <th></th>\n      <th></th>\n    </tr>\n  </thead>\n  <tbody>\n    <tr>\n      <th>SRH</th>\n      <td>Dwarner</td>\n      <td>M Pandey</td>\n      <td>1.0</td>\n      <td>7</td>\n      <td>39</td>\n    </tr>\n    <tr>\n      <th>KKR</th>\n      <td>D Kartik</td>\n      <td>A Russel</td>\n      <td>2.0</td>\n      <td>8</td>\n      <td>38</td>\n    </tr>\n    <tr>\n      <th>CSK</th>\n      <td>MS Dhoni</td>\n      <td>A Jadeja</td>\n      <td>3.0</td>\n      <td>10</td>\n      <td>41</td>\n    </tr>\n    <tr>\n      <th>MI</th>\n      <td>Rohit Sharma</td>\n      <td>K Pollard</td>\n      <td>5.0</td>\n      <td>12</td>\n      <td>38</td>\n    </tr>\n    <tr>\n      <th>RCB</th>\n      <td>Virat Kohli</td>\n      <td>AB de villers</td>\n      <td>NaN</td>\n      <td>12</td>\n      <td>40</td>\n    </tr>\n  </tbody>\n</table>\n</div>"
     },
     "metadata": {},
     "execution_count": 96
    }
   ],
   "source": [
    "# Using boolena array: selects only rows corresponding to true.\n",
    "df.iloc[[True, True,False, True, False, True, False,True]]"
   ]
  },
  {
   "cell_type": "code",
   "execution_count": 97,
   "metadata": {},
   "outputs": [
    {
     "output_type": "execute_result",
     "data": {
      "text/plain": [
       "           Captain   Vice_Captain  Won_times  Total_Seasons  Squad_team\n",
       "Team                                                                   \n",
       "SRH        Dwarner       M Pandey        1.0              7          39\n",
       "KKR       D Kartik       A Russel        2.0              8          38\n",
       "RR         S Smith       A Rahane        1.0              8          39\n",
       "CSK       MS Dhoni       A Jadeja        3.0             10          41\n",
       "KXP       KL Rahul      M Agarwal        NaN             11          42\n",
       "MI    Rohit Sharma      K Pollard        5.0             12          38\n",
       "DC          S Iyer         R Pant        2.0             12          40\n",
       "RCB    Virat Kohli  AB de villers        NaN             12          40"
      ],
      "text/html": "<div>\n<style scoped>\n    .dataframe tbody tr th:only-of-type {\n        vertical-align: middle;\n    }\n\n    .dataframe tbody tr th {\n        vertical-align: top;\n    }\n\n    .dataframe thead th {\n        text-align: right;\n    }\n</style>\n<table border=\"1\" class=\"dataframe\">\n  <thead>\n    <tr style=\"text-align: right;\">\n      <th></th>\n      <th>Captain</th>\n      <th>Vice_Captain</th>\n      <th>Won_times</th>\n      <th>Total_Seasons</th>\n      <th>Squad_team</th>\n    </tr>\n    <tr>\n      <th>Team</th>\n      <th></th>\n      <th></th>\n      <th></th>\n      <th></th>\n      <th></th>\n    </tr>\n  </thead>\n  <tbody>\n    <tr>\n      <th>SRH</th>\n      <td>Dwarner</td>\n      <td>M Pandey</td>\n      <td>1.0</td>\n      <td>7</td>\n      <td>39</td>\n    </tr>\n    <tr>\n      <th>KKR</th>\n      <td>D Kartik</td>\n      <td>A Russel</td>\n      <td>2.0</td>\n      <td>8</td>\n      <td>38</td>\n    </tr>\n    <tr>\n      <th>RR</th>\n      <td>S Smith</td>\n      <td>A Rahane</td>\n      <td>1.0</td>\n      <td>8</td>\n      <td>39</td>\n    </tr>\n    <tr>\n      <th>CSK</th>\n      <td>MS Dhoni</td>\n      <td>A Jadeja</td>\n      <td>3.0</td>\n      <td>10</td>\n      <td>41</td>\n    </tr>\n    <tr>\n      <th>KXP</th>\n      <td>KL Rahul</td>\n      <td>M Agarwal</td>\n      <td>NaN</td>\n      <td>11</td>\n      <td>42</td>\n    </tr>\n    <tr>\n      <th>MI</th>\n      <td>Rohit Sharma</td>\n      <td>K Pollard</td>\n      <td>5.0</td>\n      <td>12</td>\n      <td>38</td>\n    </tr>\n    <tr>\n      <th>DC</th>\n      <td>S Iyer</td>\n      <td>R Pant</td>\n      <td>2.0</td>\n      <td>12</td>\n      <td>40</td>\n    </tr>\n    <tr>\n      <th>RCB</th>\n      <td>Virat Kohli</td>\n      <td>AB de villers</td>\n      <td>NaN</td>\n      <td>12</td>\n      <td>40</td>\n    </tr>\n  </tbody>\n</table>\n</div>"
     },
     "metadata": {},
     "execution_count": 97
    }
   ],
   "source": [
    "# 1) Selecting based on Labels: using df.loc\n",
    "# WKT it is possible to have our own custom index.\n",
    "\n",
    "df"
   ]
  },
  {
   "cell_type": "code",
   "execution_count": 103,
   "metadata": {},
   "outputs": [
    {
     "output_type": "execute_result",
     "data": {
      "text/plain": [
       "           Captain Vice_Captain  Won_times  Total_Seasons  Squad_team\n",
       "Team                                                                 \n",
       "SRH        Dwarner     M Pandey        1.0              7          39\n",
       "KXP       KL Rahul    M Agarwal        NaN             11          42\n",
       "MI    Rohit Sharma    K Pollard        5.0             12          38"
      ],
      "text/html": "<div>\n<style scoped>\n    .dataframe tbody tr th:only-of-type {\n        vertical-align: middle;\n    }\n\n    .dataframe tbody tr th {\n        vertical-align: top;\n    }\n\n    .dataframe thead th {\n        text-align: right;\n    }\n</style>\n<table border=\"1\" class=\"dataframe\">\n  <thead>\n    <tr style=\"text-align: right;\">\n      <th></th>\n      <th>Captain</th>\n      <th>Vice_Captain</th>\n      <th>Won_times</th>\n      <th>Total_Seasons</th>\n      <th>Squad_team</th>\n    </tr>\n    <tr>\n      <th>Team</th>\n      <th></th>\n      <th></th>\n      <th></th>\n      <th></th>\n      <th></th>\n    </tr>\n  </thead>\n  <tbody>\n    <tr>\n      <th>SRH</th>\n      <td>Dwarner</td>\n      <td>M Pandey</td>\n      <td>1.0</td>\n      <td>7</td>\n      <td>39</td>\n    </tr>\n    <tr>\n      <th>KXP</th>\n      <td>KL Rahul</td>\n      <td>M Agarwal</td>\n      <td>NaN</td>\n      <td>11</td>\n      <td>42</td>\n    </tr>\n    <tr>\n      <th>MI</th>\n      <td>Rohit Sharma</td>\n      <td>K Pollard</td>\n      <td>5.0</td>\n      <td>12</td>\n      <td>38</td>\n    </tr>\n  </tbody>\n</table>\n</div>"
     },
     "metadata": {},
     "execution_count": 103
    }
   ],
   "source": [
    "df.loc[['SRH', 'KXP', 'MI'], :]"
   ]
  },
  {
   "cell_type": "code",
   "execution_count": 106,
   "metadata": {},
   "outputs": [
    {
     "output_type": "execute_result",
     "data": {
      "text/plain": [
       "     Vice_Captain  Won_times  Total_Seasons  Squad_team\n",
       "Team                                                   \n",
       "SRH      M Pandey        1.0              7          39\n",
       "KXP     M Agarwal        NaN             11          42\n",
       "MI      K Pollard        5.0             12          38"
      ],
      "text/html": "<div>\n<style scoped>\n    .dataframe tbody tr th:only-of-type {\n        vertical-align: middle;\n    }\n\n    .dataframe tbody tr th {\n        vertical-align: top;\n    }\n\n    .dataframe thead th {\n        text-align: right;\n    }\n</style>\n<table border=\"1\" class=\"dataframe\">\n  <thead>\n    <tr style=\"text-align: right;\">\n      <th></th>\n      <th>Vice_Captain</th>\n      <th>Won_times</th>\n      <th>Total_Seasons</th>\n      <th>Squad_team</th>\n    </tr>\n    <tr>\n      <th>Team</th>\n      <th></th>\n      <th></th>\n      <th></th>\n      <th></th>\n    </tr>\n  </thead>\n  <tbody>\n    <tr>\n      <th>SRH</th>\n      <td>M Pandey</td>\n      <td>1.0</td>\n      <td>7</td>\n      <td>39</td>\n    </tr>\n    <tr>\n      <th>KXP</th>\n      <td>M Agarwal</td>\n      <td>NaN</td>\n      <td>11</td>\n      <td>42</td>\n    </tr>\n    <tr>\n      <th>MI</th>\n      <td>K Pollard</td>\n      <td>5.0</td>\n      <td>12</td>\n      <td>38</td>\n    </tr>\n  </tbody>\n</table>\n</div>"
     },
     "metadata": {},
     "execution_count": 106
    }
   ],
   "source": [
    "df.loc[['SRH', 'KXP', 'MI'], 'Vice_Captain':'Squad_team']"
   ]
  },
  {
   "source": [
    "Subsetting Dataframes based on Conditions:"
   ],
   "cell_type": "code",
   "metadata": {},
   "execution_count": null,
   "outputs": []
  },
  {
   "cell_type": "code",
   "execution_count": 107,
   "metadata": {},
   "outputs": [
    {
     "output_type": "execute_result",
     "data": {
      "text/plain": [
       "           Captain   Vice_Captain  Won_times  Total_Seasons  Squad_team\n",
       "Team                                                                   \n",
       "SRH        Dwarner       M Pandey        1.0              7          39\n",
       "KKR       D Kartik       A Russel        2.0              8          38\n",
       "RR         S Smith       A Rahane        1.0              8          39\n",
       "CSK       MS Dhoni       A Jadeja        3.0             10          41\n",
       "KXP       KL Rahul      M Agarwal        NaN             11          42\n",
       "MI    Rohit Sharma      K Pollard        5.0             12          38\n",
       "DC          S Iyer         R Pant        2.0             12          40\n",
       "RCB    Virat Kohli  AB de villers        NaN             12          40"
      ],
      "text/html": "<div>\n<style scoped>\n    .dataframe tbody tr th:only-of-type {\n        vertical-align: middle;\n    }\n\n    .dataframe tbody tr th {\n        vertical-align: top;\n    }\n\n    .dataframe thead th {\n        text-align: right;\n    }\n</style>\n<table border=\"1\" class=\"dataframe\">\n  <thead>\n    <tr style=\"text-align: right;\">\n      <th></th>\n      <th>Captain</th>\n      <th>Vice_Captain</th>\n      <th>Won_times</th>\n      <th>Total_Seasons</th>\n      <th>Squad_team</th>\n    </tr>\n    <tr>\n      <th>Team</th>\n      <th></th>\n      <th></th>\n      <th></th>\n      <th></th>\n      <th></th>\n    </tr>\n  </thead>\n  <tbody>\n    <tr>\n      <th>SRH</th>\n      <td>Dwarner</td>\n      <td>M Pandey</td>\n      <td>1.0</td>\n      <td>7</td>\n      <td>39</td>\n    </tr>\n    <tr>\n      <th>KKR</th>\n      <td>D Kartik</td>\n      <td>A Russel</td>\n      <td>2.0</td>\n      <td>8</td>\n      <td>38</td>\n    </tr>\n    <tr>\n      <th>RR</th>\n      <td>S Smith</td>\n      <td>A Rahane</td>\n      <td>1.0</td>\n      <td>8</td>\n      <td>39</td>\n    </tr>\n    <tr>\n      <th>CSK</th>\n      <td>MS Dhoni</td>\n      <td>A Jadeja</td>\n      <td>3.0</td>\n      <td>10</td>\n      <td>41</td>\n    </tr>\n    <tr>\n      <th>KXP</th>\n      <td>KL Rahul</td>\n      <td>M Agarwal</td>\n      <td>NaN</td>\n      <td>11</td>\n      <td>42</td>\n    </tr>\n    <tr>\n      <th>MI</th>\n      <td>Rohit Sharma</td>\n      <td>K Pollard</td>\n      <td>5.0</td>\n      <td>12</td>\n      <td>38</td>\n    </tr>\n    <tr>\n      <th>DC</th>\n      <td>S Iyer</td>\n      <td>R Pant</td>\n      <td>2.0</td>\n      <td>12</td>\n      <td>40</td>\n    </tr>\n    <tr>\n      <th>RCB</th>\n      <td>Virat Kohli</td>\n      <td>AB de villers</td>\n      <td>NaN</td>\n      <td>12</td>\n      <td>40</td>\n    </tr>\n  </tbody>\n</table>\n</div>"
     },
     "metadata": {},
     "execution_count": 107
    }
   ],
   "source": [
    "df"
   ]
  },
  {
   "cell_type": "code",
   "execution_count": 112,
   "metadata": {},
   "outputs": [
    {
     "output_type": "execute_result",
     "data": {
      "text/plain": [
       "           Captain Vice_Captain  Won_times  Total_Seasons  Squad_team\n",
       "Team                                                                 \n",
       "CSK       MS Dhoni     A Jadeja        3.0             10          41\n",
       "MI    Rohit Sharma    K Pollard        5.0             12          38"
      ],
      "text/html": "<div>\n<style scoped>\n    .dataframe tbody tr th:only-of-type {\n        vertical-align: middle;\n    }\n\n    .dataframe tbody tr th {\n        vertical-align: top;\n    }\n\n    .dataframe thead th {\n        text-align: right;\n    }\n</style>\n<table border=\"1\" class=\"dataframe\">\n  <thead>\n    <tr style=\"text-align: right;\">\n      <th></th>\n      <th>Captain</th>\n      <th>Vice_Captain</th>\n      <th>Won_times</th>\n      <th>Total_Seasons</th>\n      <th>Squad_team</th>\n    </tr>\n    <tr>\n      <th>Team</th>\n      <th></th>\n      <th></th>\n      <th></th>\n      <th></th>\n      <th></th>\n    </tr>\n  </thead>\n  <tbody>\n    <tr>\n      <th>CSK</th>\n      <td>MS Dhoni</td>\n      <td>A Jadeja</td>\n      <td>3.0</td>\n      <td>10</td>\n      <td>41</td>\n    </tr>\n    <tr>\n      <th>MI</th>\n      <td>Rohit Sharma</td>\n      <td>K Pollard</td>\n      <td>5.0</td>\n      <td>12</td>\n      <td>38</td>\n    </tr>\n  </tbody>\n</table>\n</div>"
     },
     "metadata": {},
     "execution_count": 112
    }
   ],
   "source": [
    "# using a boolean array: df['Won_times']>2.0\n",
    "df.loc[df['Won_times']>2.0]"
   ]
  },
  {
   "cell_type": "code",
   "execution_count": 113,
   "metadata": {},
   "outputs": [
    {
     "output_type": "execute_result",
     "data": {
      "text/plain": [
       "           Captain Vice_Captain  Won_times  Total_Seasons  Squad_team\n",
       "Team                                                                 \n",
       "CSK       MS Dhoni     A Jadeja        3.0             10          41\n",
       "MI    Rohit Sharma    K Pollard        5.0             12          38"
      ],
      "text/html": "<div>\n<style scoped>\n    .dataframe tbody tr th:only-of-type {\n        vertical-align: middle;\n    }\n\n    .dataframe tbody tr th {\n        vertical-align: top;\n    }\n\n    .dataframe thead th {\n        text-align: right;\n    }\n</style>\n<table border=\"1\" class=\"dataframe\">\n  <thead>\n    <tr style=\"text-align: right;\">\n      <th></th>\n      <th>Captain</th>\n      <th>Vice_Captain</th>\n      <th>Won_times</th>\n      <th>Total_Seasons</th>\n      <th>Squad_team</th>\n    </tr>\n    <tr>\n      <th>Team</th>\n      <th></th>\n      <th></th>\n      <th></th>\n      <th></th>\n      <th></th>\n    </tr>\n  </thead>\n  <tbody>\n    <tr>\n      <th>CSK</th>\n      <td>MS Dhoni</td>\n      <td>A Jadeja</td>\n      <td>3.0</td>\n      <td>10</td>\n      <td>41</td>\n    </tr>\n    <tr>\n      <th>MI</th>\n      <td>Rohit Sharma</td>\n      <td>K Pollard</td>\n      <td>5.0</td>\n      <td>12</td>\n      <td>38</td>\n    </tr>\n  </tbody>\n</table>\n</div>"
     },
     "metadata": {},
     "execution_count": 113
    }
   ],
   "source": [
    "# Equivalent to above one\n",
    "df.loc[df['Won_times']>2.0, ]"
   ]
  },
  {
   "cell_type": "code",
   "execution_count": 114,
   "metadata": {},
   "outputs": [
    {
     "output_type": "execute_result",
     "data": {
      "text/plain": [
       "           Captain   Vice_Captain  Won_times  Total_Seasons  Squad_team\n",
       "Team                                                                   \n",
       "SRH        Dwarner       M Pandey        1.0              7          39\n",
       "KKR       D Kartik       A Russel        2.0              8          38\n",
       "RR         S Smith       A Rahane        1.0              8          39\n",
       "CSK       MS Dhoni       A Jadeja        3.0             10          41\n",
       "KXP       KL Rahul      M Agarwal        NaN             11          42\n",
       "MI    Rohit Sharma      K Pollard        5.0             12          38\n",
       "DC          S Iyer         R Pant        2.0             12          40\n",
       "RCB    Virat Kohli  AB de villers        NaN             12          40"
      ],
      "text/html": "<div>\n<style scoped>\n    .dataframe tbody tr th:only-of-type {\n        vertical-align: middle;\n    }\n\n    .dataframe tbody tr th {\n        vertical-align: top;\n    }\n\n    .dataframe thead th {\n        text-align: right;\n    }\n</style>\n<table border=\"1\" class=\"dataframe\">\n  <thead>\n    <tr style=\"text-align: right;\">\n      <th></th>\n      <th>Captain</th>\n      <th>Vice_Captain</th>\n      <th>Won_times</th>\n      <th>Total_Seasons</th>\n      <th>Squad_team</th>\n    </tr>\n    <tr>\n      <th>Team</th>\n      <th></th>\n      <th></th>\n      <th></th>\n      <th></th>\n      <th></th>\n    </tr>\n  </thead>\n  <tbody>\n    <tr>\n      <th>SRH</th>\n      <td>Dwarner</td>\n      <td>M Pandey</td>\n      <td>1.0</td>\n      <td>7</td>\n      <td>39</td>\n    </tr>\n    <tr>\n      <th>KKR</th>\n      <td>D Kartik</td>\n      <td>A Russel</td>\n      <td>2.0</td>\n      <td>8</td>\n      <td>38</td>\n    </tr>\n    <tr>\n      <th>RR</th>\n      <td>S Smith</td>\n      <td>A Rahane</td>\n      <td>1.0</td>\n      <td>8</td>\n      <td>39</td>\n    </tr>\n    <tr>\n      <th>CSK</th>\n      <td>MS Dhoni</td>\n      <td>A Jadeja</td>\n      <td>3.0</td>\n      <td>10</td>\n      <td>41</td>\n    </tr>\n    <tr>\n      <th>KXP</th>\n      <td>KL Rahul</td>\n      <td>M Agarwal</td>\n      <td>NaN</td>\n      <td>11</td>\n      <td>42</td>\n    </tr>\n    <tr>\n      <th>MI</th>\n      <td>Rohit Sharma</td>\n      <td>K Pollard</td>\n      <td>5.0</td>\n      <td>12</td>\n      <td>38</td>\n    </tr>\n    <tr>\n      <th>DC</th>\n      <td>S Iyer</td>\n      <td>R Pant</td>\n      <td>2.0</td>\n      <td>12</td>\n      <td>40</td>\n    </tr>\n    <tr>\n      <th>RCB</th>\n      <td>Virat Kohli</td>\n      <td>AB de villers</td>\n      <td>NaN</td>\n      <td>12</td>\n      <td>40</td>\n    </tr>\n  </tbody>\n</table>\n</div>"
     },
     "metadata": {},
     "execution_count": 114
    }
   ],
   "source": [
    "df"
   ]
  },
  {
   "cell_type": "code",
   "execution_count": 116,
   "metadata": {},
   "outputs": [
    {
     "output_type": "execute_result",
     "data": {
      "text/plain": [
       "       Captain Vice_Captain  Won_times  Total_Seasons  Squad_team\n",
       "Team                                                             \n",
       "CSK   MS Dhoni     A Jadeja        3.0             10          41\n",
       "KXP   KL Rahul    M Agarwal        NaN             11          42"
      ],
      "text/html": "<div>\n<style scoped>\n    .dataframe tbody tr th:only-of-type {\n        vertical-align: middle;\n    }\n\n    .dataframe tbody tr th {\n        vertical-align: top;\n    }\n\n    .dataframe thead th {\n        text-align: right;\n    }\n</style>\n<table border=\"1\" class=\"dataframe\">\n  <thead>\n    <tr style=\"text-align: right;\">\n      <th></th>\n      <th>Captain</th>\n      <th>Vice_Captain</th>\n      <th>Won_times</th>\n      <th>Total_Seasons</th>\n      <th>Squad_team</th>\n    </tr>\n    <tr>\n      <th>Team</th>\n      <th></th>\n      <th></th>\n      <th></th>\n      <th></th>\n      <th></th>\n    </tr>\n  </thead>\n  <tbody>\n    <tr>\n      <th>CSK</th>\n      <td>MS Dhoni</td>\n      <td>A Jadeja</td>\n      <td>3.0</td>\n      <td>10</td>\n      <td>41</td>\n    </tr>\n    <tr>\n      <th>KXP</th>\n      <td>KL Rahul</td>\n      <td>M Agarwal</td>\n      <td>NaN</td>\n      <td>11</td>\n      <td>42</td>\n    </tr>\n  </tbody>\n</table>\n</div>"
     },
     "metadata": {},
     "execution_count": 116
    }
   ],
   "source": [
    "df.loc[(df.Total_Seasons>8) & (df.Squad_team>40)]"
   ]
  },
  {
   "cell_type": "code",
   "execution_count": 118,
   "metadata": {},
   "outputs": [
    {
     "output_type": "execute_result",
     "data": {
      "text/plain": [
       "           Captain   Vice_Captain  Won_times  Total_Seasons  Squad_team\n",
       "Team                                                                   \n",
       "CSK       MS Dhoni       A Jadeja        3.0             10          41\n",
       "KXP       KL Rahul      M Agarwal        NaN             11          42\n",
       "MI    Rohit Sharma      K Pollard        5.0             12          38\n",
       "DC          S Iyer         R Pant        2.0             12          40\n",
       "RCB    Virat Kohli  AB de villers        NaN             12          40"
      ],
      "text/html": "<div>\n<style scoped>\n    .dataframe tbody tr th:only-of-type {\n        vertical-align: middle;\n    }\n\n    .dataframe tbody tr th {\n        vertical-align: top;\n    }\n\n    .dataframe thead th {\n        text-align: right;\n    }\n</style>\n<table border=\"1\" class=\"dataframe\">\n  <thead>\n    <tr style=\"text-align: right;\">\n      <th></th>\n      <th>Captain</th>\n      <th>Vice_Captain</th>\n      <th>Won_times</th>\n      <th>Total_Seasons</th>\n      <th>Squad_team</th>\n    </tr>\n    <tr>\n      <th>Team</th>\n      <th></th>\n      <th></th>\n      <th></th>\n      <th></th>\n      <th></th>\n    </tr>\n  </thead>\n  <tbody>\n    <tr>\n      <th>CSK</th>\n      <td>MS Dhoni</td>\n      <td>A Jadeja</td>\n      <td>3.0</td>\n      <td>10</td>\n      <td>41</td>\n    </tr>\n    <tr>\n      <th>KXP</th>\n      <td>KL Rahul</td>\n      <td>M Agarwal</td>\n      <td>NaN</td>\n      <td>11</td>\n      <td>42</td>\n    </tr>\n    <tr>\n      <th>MI</th>\n      <td>Rohit Sharma</td>\n      <td>K Pollard</td>\n      <td>5.0</td>\n      <td>12</td>\n      <td>38</td>\n    </tr>\n    <tr>\n      <th>DC</th>\n      <td>S Iyer</td>\n      <td>R Pant</td>\n      <td>2.0</td>\n      <td>12</td>\n      <td>40</td>\n    </tr>\n    <tr>\n      <th>RCB</th>\n      <td>Virat Kohli</td>\n      <td>AB de villers</td>\n      <td>NaN</td>\n      <td>12</td>\n      <td>40</td>\n    </tr>\n  </tbody>\n</table>\n</div>"
     },
     "metadata": {},
     "execution_count": 118
    }
   ],
   "source": [
    "df.loc[(df.Total_Seasons>8) | (df.Squad_team>40)]"
   ]
  },
  {
   "cell_type": "code",
   "execution_count": 125,
   "metadata": {},
   "outputs": [
    {
     "output_type": "execute_result",
     "data": {
      "text/plain": [
       "       Captain Vice_Captain  Won_times  Total_Seasons  Squad_team\n",
       "Team                                                             \n",
       "CSK   MS Dhoni     A Jadeja        3.0             10          41\n",
       "DC      S Iyer       R Pant        2.0             12          40"
      ],
      "text/html": "<div>\n<style scoped>\n    .dataframe tbody tr th:only-of-type {\n        vertical-align: middle;\n    }\n\n    .dataframe tbody tr th {\n        vertical-align: top;\n    }\n\n    .dataframe thead th {\n        text-align: right;\n    }\n</style>\n<table border=\"1\" class=\"dataframe\">\n  <thead>\n    <tr style=\"text-align: right;\">\n      <th></th>\n      <th>Captain</th>\n      <th>Vice_Captain</th>\n      <th>Won_times</th>\n      <th>Total_Seasons</th>\n      <th>Squad_team</th>\n    </tr>\n    <tr>\n      <th>Team</th>\n      <th></th>\n      <th></th>\n      <th></th>\n      <th></th>\n      <th></th>\n    </tr>\n  </thead>\n  <tbody>\n    <tr>\n      <th>CSK</th>\n      <td>MS Dhoni</td>\n      <td>A Jadeja</td>\n      <td>3.0</td>\n      <td>10</td>\n      <td>41</td>\n    </tr>\n    <tr>\n      <th>DC</th>\n      <td>S Iyer</td>\n      <td>R Pant</td>\n      <td>2.0</td>\n      <td>12</td>\n      <td>40</td>\n    </tr>\n  </tbody>\n</table>\n</div>"
     },
     "metadata": {},
     "execution_count": 125
    }
   ],
   "source": [
    "# We can filter column to have selected rows. NOTE: Items in List should be part of Column under filter.\n",
    "valid_rows = ['A Jadeja', 'R Pant']\n",
    "df.loc[df.Vice_Captain.isin(valid_rows)]"
   ]
  },
  {
   "source": [
    "## Merge and Append(Concat):"
   ],
   "cell_type": "markdown",
   "metadata": {}
  },
  {
   "source": [
    "##1) Merging two or more dataframes using pd.merge()"
   ],
   "cell_type": "markdown",
   "metadata": {}
  },
  {
   "cell_type": "code",
   "execution_count": 129,
   "metadata": {},
   "outputs": [
    {
     "output_type": "execute_result",
     "data": {
      "text/plain": [
       "        Captain  ODI_RUNS  Catches\n",
       "0   Virat Kohli     25000      840\n",
       "1  Rohit Sharma     13000      490\n",
       "2      MS Dhoni     12000     1280\n",
       "3      KL Rahul      3000      390\n",
       "4      D Kartik      3500      320\n",
       "5       Dwarner      8000      790\n",
       "6        S Iyer      1000      321\n",
       "7       S Smith      8000      800"
      ],
      "text/html": "<div>\n<style scoped>\n    .dataframe tbody tr th:only-of-type {\n        vertical-align: middle;\n    }\n\n    .dataframe tbody tr th {\n        vertical-align: top;\n    }\n\n    .dataframe thead th {\n        text-align: right;\n    }\n</style>\n<table border=\"1\" class=\"dataframe\">\n  <thead>\n    <tr style=\"text-align: right;\">\n      <th></th>\n      <th>Captain</th>\n      <th>ODI_RUNS</th>\n      <th>Catches</th>\n    </tr>\n  </thead>\n  <tbody>\n    <tr>\n      <th>0</th>\n      <td>Virat Kohli</td>\n      <td>25000</td>\n      <td>840</td>\n    </tr>\n    <tr>\n      <th>1</th>\n      <td>Rohit Sharma</td>\n      <td>13000</td>\n      <td>490</td>\n    </tr>\n    <tr>\n      <th>2</th>\n      <td>MS Dhoni</td>\n      <td>12000</td>\n      <td>1280</td>\n    </tr>\n    <tr>\n      <th>3</th>\n      <td>KL Rahul</td>\n      <td>3000</td>\n      <td>390</td>\n    </tr>\n    <tr>\n      <th>4</th>\n      <td>D Kartik</td>\n      <td>3500</td>\n      <td>320</td>\n    </tr>\n    <tr>\n      <th>5</th>\n      <td>Dwarner</td>\n      <td>8000</td>\n      <td>790</td>\n    </tr>\n    <tr>\n      <th>6</th>\n      <td>S Iyer</td>\n      <td>1000</td>\n      <td>321</td>\n    </tr>\n    <tr>\n      <th>7</th>\n      <td>S Smith</td>\n      <td>8000</td>\n      <td>800</td>\n    </tr>\n  </tbody>\n</table>\n</div>"
     },
     "metadata": {},
     "execution_count": 129
    }
   ],
   "source": [
    "df_1 = df\n",
    "df_2 = pd.read_csv(\"sample_workbook_2.csv\")\n",
    "df_2"
   ]
  },
  {
   "cell_type": "code",
   "execution_count": 131,
   "metadata": {},
   "outputs": [
    {
     "output_type": "execute_result",
     "data": {
      "text/plain": [
       "        Captain   Vice_Captain  Won_times  Total_Seasons  Squad_team  \\\n",
       "0       Dwarner       M Pandey        1.0              7          39   \n",
       "1      D Kartik       A Russel        2.0              8          38   \n",
       "2       S Smith       A Rahane        1.0              8          39   \n",
       "3      MS Dhoni       A Jadeja        3.0             10          41   \n",
       "4      KL Rahul      M Agarwal        NaN             11          42   \n",
       "5  Rohit Sharma      K Pollard        5.0             12          38   \n",
       "6        S Iyer         R Pant        2.0             12          40   \n",
       "7   Virat Kohli  AB de villers        NaN             12          40   \n",
       "\n",
       "   ODI_RUNS  Catches  \n",
       "0      8000      790  \n",
       "1      3500      320  \n",
       "2      8000      800  \n",
       "3     12000     1280  \n",
       "4      3000      390  \n",
       "5     13000      490  \n",
       "6      1000      321  \n",
       "7     25000      840  "
      ],
      "text/html": "<div>\n<style scoped>\n    .dataframe tbody tr th:only-of-type {\n        vertical-align: middle;\n    }\n\n    .dataframe tbody tr th {\n        vertical-align: top;\n    }\n\n    .dataframe thead th {\n        text-align: right;\n    }\n</style>\n<table border=\"1\" class=\"dataframe\">\n  <thead>\n    <tr style=\"text-align: right;\">\n      <th></th>\n      <th>Captain</th>\n      <th>Vice_Captain</th>\n      <th>Won_times</th>\n      <th>Total_Seasons</th>\n      <th>Squad_team</th>\n      <th>ODI_RUNS</th>\n      <th>Catches</th>\n    </tr>\n  </thead>\n  <tbody>\n    <tr>\n      <th>0</th>\n      <td>Dwarner</td>\n      <td>M Pandey</td>\n      <td>1.0</td>\n      <td>7</td>\n      <td>39</td>\n      <td>8000</td>\n      <td>790</td>\n    </tr>\n    <tr>\n      <th>1</th>\n      <td>D Kartik</td>\n      <td>A Russel</td>\n      <td>2.0</td>\n      <td>8</td>\n      <td>38</td>\n      <td>3500</td>\n      <td>320</td>\n    </tr>\n    <tr>\n      <th>2</th>\n      <td>S Smith</td>\n      <td>A Rahane</td>\n      <td>1.0</td>\n      <td>8</td>\n      <td>39</td>\n      <td>8000</td>\n      <td>800</td>\n    </tr>\n    <tr>\n      <th>3</th>\n      <td>MS Dhoni</td>\n      <td>A Jadeja</td>\n      <td>3.0</td>\n      <td>10</td>\n      <td>41</td>\n      <td>12000</td>\n      <td>1280</td>\n    </tr>\n    <tr>\n      <th>4</th>\n      <td>KL Rahul</td>\n      <td>M Agarwal</td>\n      <td>NaN</td>\n      <td>11</td>\n      <td>42</td>\n      <td>3000</td>\n      <td>390</td>\n    </tr>\n    <tr>\n      <th>5</th>\n      <td>Rohit Sharma</td>\n      <td>K Pollard</td>\n      <td>5.0</td>\n      <td>12</td>\n      <td>38</td>\n      <td>13000</td>\n      <td>490</td>\n    </tr>\n    <tr>\n      <th>6</th>\n      <td>S Iyer</td>\n      <td>R Pant</td>\n      <td>2.0</td>\n      <td>12</td>\n      <td>40</td>\n      <td>1000</td>\n      <td>321</td>\n    </tr>\n    <tr>\n      <th>7</th>\n      <td>Virat Kohli</td>\n      <td>AB de villers</td>\n      <td>NaN</td>\n      <td>12</td>\n      <td>40</td>\n      <td>25000</td>\n      <td>840</td>\n    </tr>\n  </tbody>\n</table>\n</div>"
     },
     "metadata": {},
     "execution_count": 131
    }
   ],
   "source": [
    "# how = \"inner\" makes merge using same column in both dataframes so we will have all columns in both dataframes but only one common column\n",
    "pd.merge(df_1, df_2, how=\"inner\", on=\"Captain\")"
   ]
  }
 ]
}