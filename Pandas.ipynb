{
 "metadata": {
  "language_info": {
   "codemirror_mode": {
    "name": "ipython",
    "version": 3
   },
   "file_extension": ".py",
   "mimetype": "text/x-python",
   "name": "python",
   "nbconvert_exporter": "python",
   "pygments_lexer": "ipython3",
   "version": "3.8.3-final"
  },
  "orig_nbformat": 2,
  "kernelspec": {
   "name": "python3",
   "display_name": "Python 3"
  }
 },
 "nbformat": 4,
 "nbformat_minor": 2,
 "cells": [
  {
   "source": [
    "## Introduction to Pandas: Series and Dataframes"
   ],
   "cell_type": "markdown",
   "metadata": {}
  },
  {
   "source": [
    "Series: like one dimensional array, not restricted to just numeric types, optimised for iterating through values. Built on top of numpy.\n",
    "\n",
    "Dataframe : like Two dimensional array with row indices and column names. Can contain Mixed type attributes."
   ],
   "cell_type": "markdown",
   "metadata": {}
  },
  {
   "source": [
    "# Create a Series : using pd.Series(numpy_array)\n",
    "import pandas as pd \n",
    "import numpy as np\n",
    "\n",
    "m = pd.Series([1,2,3,4,5])\n",
    "\n",
    "# print m\n",
    "m"
   ],
   "cell_type": "code",
   "metadata": {},
   "execution_count": 10,
   "outputs": [
    {
     "output_type": "execute_result",
     "data": {
      "text/plain": [
       "0    1\n",
       "1    2\n",
       "2    3\n",
       "3    4\n",
       "4    5\n",
       "dtype: int64"
      ]
     },
     "metadata": {},
     "execution_count": 10
    }
   ]
  },
  {
   "source": [
    "# Accessing elements of a series : like a 1d list \n",
    "# to print single index\n",
    "m[1]"
   ],
   "cell_type": "code",
   "metadata": {},
   "execution_count": 11,
   "outputs": [
    {
     "output_type": "execute_result",
     "data": {
      "text/plain": [
       "2"
      ]
     },
     "metadata": {},
     "execution_count": 11
    }
   ]
  },
  {
   "cell_type": "code",
   "execution_count": 12,
   "metadata": {},
   "outputs": [
    {
     "output_type": "execute_result",
     "data": {
      "text/plain": [
       "1    2\n",
       "2    3\n",
       "3    4\n",
       "4    5\n",
       "dtype: int64"
      ]
     },
     "metadata": {},
     "execution_count": 12
    }
   ],
   "source": [
    "# to print set of indices(rows) : print all rows from index 1\n",
    "m[1:]"
   ]
  },
  {
   "source": [
    "# we can print random indexed rows \n",
    "# NOTE: m[1,3] will not work to print indices 1 and 3, We need pass in a list like [1,3] in original []\n",
    "m[[1,3]]\n"
   ],
   "cell_type": "code",
   "metadata": {},
   "execution_count": 13,
   "outputs": [
    {
     "output_type": "execute_result",
     "data": {
      "text/plain": [
       "1    2\n",
       "3    4\n",
       "dtype: int64"
      ]
     },
     "metadata": {},
     "execution_count": 13
    }
   ]
  },
  {
   "cell_type": "code",
   "execution_count": 14,
   "metadata": {},
   "outputs": [
    {
     "output_type": "error",
     "ename": "AttributeError",
     "evalue": "'numpy.ndarray' object has no attribute 'apply'",
     "traceback": [
      "\u001b[1;31m---------------------------------------------------------------------------\u001b[0m",
      "\u001b[1;31mAttributeError\u001b[0m                            Traceback (most recent call last)",
      "\u001b[1;32m<ipython-input-14-3974c2b372d2>\u001b[0m in \u001b[0;36m<module>\u001b[1;34m\u001b[0m\n\u001b[0;32m      1\u001b[0m \u001b[1;31m#To contrast with numpy array and pandas series, we have an apply() that applies a function to each element of it. and this is supported only for pandas series.\u001b[0m\u001b[1;33m\u001b[0m\u001b[1;33m\u001b[0m\u001b[1;33m\u001b[0m\u001b[0m\n\u001b[1;32m----> 2\u001b[1;33m \u001b[0mnp\u001b[0m\u001b[1;33m.\u001b[0m\u001b[0marange\u001b[0m\u001b[1;33m(\u001b[0m\u001b[1;36m10\u001b[0m\u001b[1;33m)\u001b[0m\u001b[1;33m.\u001b[0m\u001b[0mapply\u001b[0m\u001b[1;33m(\u001b[0m\u001b[1;32mlambda\u001b[0m \u001b[0mx\u001b[0m\u001b[1;33m:\u001b[0m\u001b[0mx\u001b[0m\u001b[1;33m+\u001b[0m\u001b[1;36m1\u001b[0m\u001b[1;33m)\u001b[0m\u001b[1;33m\u001b[0m\u001b[1;33m\u001b[0m\u001b[0m\n\u001b[0m",
      "\u001b[1;31mAttributeError\u001b[0m: 'numpy.ndarray' object has no attribute 'apply'"
     ]
    }
   ],
   "source": [
    "#To contrast with numpy array and pandas series, we have an apply() that applies a function to each element of it. and this is supported only for pandas series.\n",
    "np.arange(10).apply(lambda x:x+1)"
   ]
  },
  {
   "cell_type": "code",
   "execution_count": 32,
   "metadata": {},
   "outputs": [
    {
     "output_type": "execute_result",
     "data": {
      "text/plain": [
       "0    2\n",
       "1    3\n",
       "2    4\n",
       "3    5\n",
       "dtype: int64"
      ]
     },
     "metadata": {},
     "execution_count": 32
    }
   ],
   "source": [
    "pd.Series([1,2,3,4]).apply(lambda x:x+1)"
   ]
  },
  {
   "source": [
    "Dataframes: Real world data is mentioned i this format. Every row is an object and every column is an attribute."
   ],
   "cell_type": "markdown",
   "metadata": {}
  },
  {
   "source": [
    "Creating Dataframes : many Ways\n",
    "1) from Dictionary\n",
    "2) from csv file\n",
    "3) from json file\n",
    "4) from text file"
   ],
   "cell_type": "code",
   "metadata": {},
   "execution_count": null,
   "outputs": []
  },
  {
   "cell_type": "code",
   "execution_count": 38,
   "metadata": {},
   "outputs": [
    {
     "output_type": "execute_result",
     "data": {
      "text/plain": [
       "                 Name  Age Education\n",
       "0  Santoshkumar vagga   25      M.Sc\n",
       "1       Suraj Chauhan   26       M.D\n",
       "2      Satish Biradar   24       B.E\n",
       "3         Uday Poddar   27       M.E"
      ],
      "text/html": "<div>\n<style scoped>\n    .dataframe tbody tr th:only-of-type {\n        vertical-align: middle;\n    }\n\n    .dataframe tbody tr th {\n        vertical-align: top;\n    }\n\n    .dataframe thead th {\n        text-align: right;\n    }\n</style>\n<table border=\"1\" class=\"dataframe\">\n  <thead>\n    <tr style=\"text-align: right;\">\n      <th></th>\n      <th>Name</th>\n      <th>Age</th>\n      <th>Education</th>\n    </tr>\n  </thead>\n  <tbody>\n    <tr>\n      <th>0</th>\n      <td>Santoshkumar vagga</td>\n      <td>25</td>\n      <td>M.Sc</td>\n    </tr>\n    <tr>\n      <th>1</th>\n      <td>Suraj Chauhan</td>\n      <td>26</td>\n      <td>M.D</td>\n    </tr>\n    <tr>\n      <th>2</th>\n      <td>Satish Biradar</td>\n      <td>24</td>\n      <td>B.E</td>\n    </tr>\n    <tr>\n      <th>3</th>\n      <td>Uday Poddar</td>\n      <td>27</td>\n      <td>M.E</td>\n    </tr>\n  </tbody>\n</table>\n</div>"
     },
     "metadata": {},
     "execution_count": 38
    }
   ],
   "source": [
    "# 1) from Dictionary:\n",
    "df = pd.DataFrame({'Name':['Santoshkumar vagga', 'Suraj Chauhan', 'Satish Biradar', 'Uday Poddar'],\n",
    "                    'Age':[25,26,24,27],\n",
    "                    'Education':['M.Sc','M.D', 'B.E', 'M.E']})\n",
    "df"
   ]
  },
  {
   "cell_type": "code",
   "execution_count": 8,
   "metadata": {},
   "outputs": [
    {
     "output_type": "execute_result",
     "data": {
      "text/plain": [
       "  Team       Captain   Vice_Captain  Won_times  Total_Seasons  Squad_team\n",
       "0  RCB   Virat Kohli  AB de villers        NaN             12          40\n",
       "1   MI  Rohit Sharma      K Pollard        5.0             12          38\n",
       "2  CSK      MS Dhoni       A Jadeja        3.0             10          41\n",
       "3  KXP      KL Rahul      M Agarwal        NaN             11          42\n",
       "4  KKR      D Kartik       A Russel        2.0              8          39\n",
       "5  SRH       Dwarner       M Pandey        1.0              7          39\n",
       "6   DC        S Iyer         R Pant        NaN             12          40\n",
       "7   RR       S Smith       A Rahane        1.0              8          38"
      ],
      "text/html": "<div>\n<style scoped>\n    .dataframe tbody tr th:only-of-type {\n        vertical-align: middle;\n    }\n\n    .dataframe tbody tr th {\n        vertical-align: top;\n    }\n\n    .dataframe thead th {\n        text-align: right;\n    }\n</style>\n<table border=\"1\" class=\"dataframe\">\n  <thead>\n    <tr style=\"text-align: right;\">\n      <th></th>\n      <th>Team</th>\n      <th>Captain</th>\n      <th>Vice_Captain</th>\n      <th>Won_times</th>\n      <th>Total_Seasons</th>\n      <th>Squad_team</th>\n    </tr>\n  </thead>\n  <tbody>\n    <tr>\n      <th>0</th>\n      <td>RCB</td>\n      <td>Virat Kohli</td>\n      <td>AB de villers</td>\n      <td>NaN</td>\n      <td>12</td>\n      <td>40</td>\n    </tr>\n    <tr>\n      <th>1</th>\n      <td>MI</td>\n      <td>Rohit Sharma</td>\n      <td>K Pollard</td>\n      <td>5.0</td>\n      <td>12</td>\n      <td>38</td>\n    </tr>\n    <tr>\n      <th>2</th>\n      <td>CSK</td>\n      <td>MS Dhoni</td>\n      <td>A Jadeja</td>\n      <td>3.0</td>\n      <td>10</td>\n      <td>41</td>\n    </tr>\n    <tr>\n      <th>3</th>\n      <td>KXP</td>\n      <td>KL Rahul</td>\n      <td>M Agarwal</td>\n      <td>NaN</td>\n      <td>11</td>\n      <td>42</td>\n    </tr>\n    <tr>\n      <th>4</th>\n      <td>KKR</td>\n      <td>D Kartik</td>\n      <td>A Russel</td>\n      <td>2.0</td>\n      <td>8</td>\n      <td>39</td>\n    </tr>\n    <tr>\n      <th>5</th>\n      <td>SRH</td>\n      <td>Dwarner</td>\n      <td>M Pandey</td>\n      <td>1.0</td>\n      <td>7</td>\n      <td>39</td>\n    </tr>\n    <tr>\n      <th>6</th>\n      <td>DC</td>\n      <td>S Iyer</td>\n      <td>R Pant</td>\n      <td>NaN</td>\n      <td>12</td>\n      <td>40</td>\n    </tr>\n    <tr>\n      <th>7</th>\n      <td>RR</td>\n      <td>S Smith</td>\n      <td>A Rahane</td>\n      <td>1.0</td>\n      <td>8</td>\n      <td>38</td>\n    </tr>\n  </tbody>\n</table>\n</div>"
     },
     "metadata": {},
     "execution_count": 8
    }
   ],
   "source": [
    "# 2) from csv: NOTE: Save as CSV(Comma delimited)\n",
    "df = pd.read_csv(\"sample_book.csv\")\n",
    "df"
   ]
  },
  {
   "source": [
    "Reading and Summarising Dataframes"
   ],
   "cell_type": "markdown",
   "metadata": {}
  },
  {
   "cell_type": "code",
   "execution_count": 9,
   "metadata": {},
   "outputs": [
    {
     "output_type": "execute_result",
     "data": {
      "text/plain": [
       "  Team       Captain   Vice_Captain  Won_times  Total_Seasons  Squad_team\n",
       "0  RCB   Virat Kohli  AB de villers        NaN             12          40\n",
       "1   MI  Rohit Sharma      K Pollard        5.0             12          38\n",
       "2  CSK      MS Dhoni       A Jadeja        3.0             10          41\n",
       "3  KXP      KL Rahul      M Agarwal        NaN             11          42\n",
       "4  KKR      D Kartik       A Russel        2.0              8          39"
      ],
      "text/html": "<div>\n<style scoped>\n    .dataframe tbody tr th:only-of-type {\n        vertical-align: middle;\n    }\n\n    .dataframe tbody tr th {\n        vertical-align: top;\n    }\n\n    .dataframe thead th {\n        text-align: right;\n    }\n</style>\n<table border=\"1\" class=\"dataframe\">\n  <thead>\n    <tr style=\"text-align: right;\">\n      <th></th>\n      <th>Team</th>\n      <th>Captain</th>\n      <th>Vice_Captain</th>\n      <th>Won_times</th>\n      <th>Total_Seasons</th>\n      <th>Squad_team</th>\n    </tr>\n  </thead>\n  <tbody>\n    <tr>\n      <th>0</th>\n      <td>RCB</td>\n      <td>Virat Kohli</td>\n      <td>AB de villers</td>\n      <td>NaN</td>\n      <td>12</td>\n      <td>40</td>\n    </tr>\n    <tr>\n      <th>1</th>\n      <td>MI</td>\n      <td>Rohit Sharma</td>\n      <td>K Pollard</td>\n      <td>5.0</td>\n      <td>12</td>\n      <td>38</td>\n    </tr>\n    <tr>\n      <th>2</th>\n      <td>CSK</td>\n      <td>MS Dhoni</td>\n      <td>A Jadeja</td>\n      <td>3.0</td>\n      <td>10</td>\n      <td>41</td>\n    </tr>\n    <tr>\n      <th>3</th>\n      <td>KXP</td>\n      <td>KL Rahul</td>\n      <td>M Agarwal</td>\n      <td>NaN</td>\n      <td>11</td>\n      <td>42</td>\n    </tr>\n    <tr>\n      <th>4</th>\n      <td>KKR</td>\n      <td>D Kartik</td>\n      <td>A Russel</td>\n      <td>2.0</td>\n      <td>8</td>\n      <td>39</td>\n    </tr>\n  </tbody>\n</table>\n</div>"
     },
     "metadata": {},
     "execution_count": 9
    }
   ],
   "source": [
    "# Print top 5 rows\n",
    "df.head()"
   ]
  },
  {
   "cell_type": "code",
   "execution_count": 10,
   "metadata": {},
   "outputs": [
    {
     "output_type": "execute_result",
     "data": {
      "text/plain": [
       "  Team   Captain Vice_Captain  Won_times  Total_Seasons  Squad_team\n",
       "3  KXP  KL Rahul    M Agarwal        NaN             11          42\n",
       "4  KKR  D Kartik     A Russel        2.0              8          39\n",
       "5  SRH   Dwarner     M Pandey        1.0              7          39\n",
       "6   DC    S Iyer       R Pant        NaN             12          40\n",
       "7   RR   S Smith     A Rahane        1.0              8          38"
      ],
      "text/html": "<div>\n<style scoped>\n    .dataframe tbody tr th:only-of-type {\n        vertical-align: middle;\n    }\n\n    .dataframe tbody tr th {\n        vertical-align: top;\n    }\n\n    .dataframe thead th {\n        text-align: right;\n    }\n</style>\n<table border=\"1\" class=\"dataframe\">\n  <thead>\n    <tr style=\"text-align: right;\">\n      <th></th>\n      <th>Team</th>\n      <th>Captain</th>\n      <th>Vice_Captain</th>\n      <th>Won_times</th>\n      <th>Total_Seasons</th>\n      <th>Squad_team</th>\n    </tr>\n  </thead>\n  <tbody>\n    <tr>\n      <th>3</th>\n      <td>KXP</td>\n      <td>KL Rahul</td>\n      <td>M Agarwal</td>\n      <td>NaN</td>\n      <td>11</td>\n      <td>42</td>\n    </tr>\n    <tr>\n      <th>4</th>\n      <td>KKR</td>\n      <td>D Kartik</td>\n      <td>A Russel</td>\n      <td>2.0</td>\n      <td>8</td>\n      <td>39</td>\n    </tr>\n    <tr>\n      <th>5</th>\n      <td>SRH</td>\n      <td>Dwarner</td>\n      <td>M Pandey</td>\n      <td>1.0</td>\n      <td>7</td>\n      <td>39</td>\n    </tr>\n    <tr>\n      <th>6</th>\n      <td>DC</td>\n      <td>S Iyer</td>\n      <td>R Pant</td>\n      <td>NaN</td>\n      <td>12</td>\n      <td>40</td>\n    </tr>\n    <tr>\n      <th>7</th>\n      <td>RR</td>\n      <td>S Smith</td>\n      <td>A Rahane</td>\n      <td>1.0</td>\n      <td>8</td>\n      <td>38</td>\n    </tr>\n  </tbody>\n</table>\n</div>"
     },
     "metadata": {},
     "execution_count": 10
    }
   ],
   "source": [
    "# print last 5 rows\n",
    "df.tail()"
   ]
  },
  {
   "cell_type": "code",
   "execution_count": 11,
   "metadata": {},
   "outputs": [
    {
     "output_type": "stream",
     "name": "stdout",
     "text": [
      "<class 'pandas.core.frame.DataFrame'>\nRangeIndex: 8 entries, 0 to 7\nData columns (total 6 columns):\n #   Column         Non-Null Count  Dtype  \n---  ------         --------------  -----  \n 0   Team           8 non-null      object \n 1   Captain        8 non-null      object \n 2   Vice_Captain   8 non-null      object \n 3   Won_times      5 non-null      float64\n 4   Total_Seasons  8 non-null      int64  \n 5   Squad_team     8 non-null      int64  \ndtypes: float64(1), int64(2), object(3)\nmemory usage: 512.0+ bytes\n"
     ]
    }
   ],
   "source": [
    "# to know datatypes of each column\n",
    "df.info()"
   ]
  },
  {
   "cell_type": "code",
   "execution_count": 12,
   "metadata": {},
   "outputs": [
    {
     "output_type": "execute_result",
     "data": {
      "text/plain": [
       "(8, 6)"
      ]
     },
     "metadata": {},
     "execution_count": 12
    }
   ],
   "source": [
    "# to know total rows and columns\n",
    "df.shape"
   ]
  },
  {
   "cell_type": "code",
   "execution_count": 13,
   "metadata": {},
   "outputs": [
    {
     "output_type": "execute_result",
     "data": {
      "text/plain": [
       "       Won_times  Total_Seasons  Squad_team\n",
       "count    5.00000       8.000000    8.000000\n",
       "mean     2.40000      10.000000   39.625000\n",
       "std      1.67332       2.070197    1.407886\n",
       "min      1.00000       7.000000   38.000000\n",
       "25%      1.00000       8.000000   38.750000\n",
       "50%      2.00000      10.500000   39.500000\n",
       "75%      3.00000      12.000000   40.250000\n",
       "max      5.00000      12.000000   42.000000"
      ],
      "text/html": "<div>\n<style scoped>\n    .dataframe tbody tr th:only-of-type {\n        vertical-align: middle;\n    }\n\n    .dataframe tbody tr th {\n        vertical-align: top;\n    }\n\n    .dataframe thead th {\n        text-align: right;\n    }\n</style>\n<table border=\"1\" class=\"dataframe\">\n  <thead>\n    <tr style=\"text-align: right;\">\n      <th></th>\n      <th>Won_times</th>\n      <th>Total_Seasons</th>\n      <th>Squad_team</th>\n    </tr>\n  </thead>\n  <tbody>\n    <tr>\n      <th>count</th>\n      <td>5.00000</td>\n      <td>8.000000</td>\n      <td>8.000000</td>\n    </tr>\n    <tr>\n      <th>mean</th>\n      <td>2.40000</td>\n      <td>10.000000</td>\n      <td>39.625000</td>\n    </tr>\n    <tr>\n      <th>std</th>\n      <td>1.67332</td>\n      <td>2.070197</td>\n      <td>1.407886</td>\n    </tr>\n    <tr>\n      <th>min</th>\n      <td>1.00000</td>\n      <td>7.000000</td>\n      <td>38.000000</td>\n    </tr>\n    <tr>\n      <th>25%</th>\n      <td>1.00000</td>\n      <td>8.000000</td>\n      <td>38.750000</td>\n    </tr>\n    <tr>\n      <th>50%</th>\n      <td>2.00000</td>\n      <td>10.500000</td>\n      <td>39.500000</td>\n    </tr>\n    <tr>\n      <th>75%</th>\n      <td>3.00000</td>\n      <td>12.000000</td>\n      <td>40.250000</td>\n    </tr>\n    <tr>\n      <th>max</th>\n      <td>5.00000</td>\n      <td>12.000000</td>\n      <td>42.000000</td>\n    </tr>\n  </tbody>\n</table>\n</div>"
     },
     "metadata": {},
     "execution_count": 13
    }
   ],
   "source": [
    "# to get numerical statistics of each column like mean, min, max(only for numeric type columns)\n",
    "df.describe()"
   ]
  },
  {
   "cell_type": "code",
   "execution_count": 14,
   "metadata": {},
   "outputs": [
    {
     "output_type": "execute_result",
     "data": {
      "text/plain": [
       "Index(['Team', 'Captain', 'Vice_Captain', 'Won_times', 'Total_Seasons',\n",
       "       'Squad_team'],\n",
       "      dtype='object')"
      ]
     },
     "metadata": {},
     "execution_count": 14
    }
   ],
   "source": [
    "# get all column names of dataframe\n",
    "df.columns"
   ]
  },
  {
   "cell_type": "code",
   "execution_count": 15,
   "metadata": {},
   "outputs": [
    {
     "output_type": "execute_result",
     "data": {
      "text/plain": [
       "array([['RCB', 'Virat Kohli', 'AB de villers', nan, 12, 40],\n",
       "       ['MI', 'Rohit Sharma', 'K Pollard', 5.0, 12, 38],\n",
       "       ['CSK', 'MS Dhoni', 'A Jadeja', 3.0, 10, 41],\n",
       "       ['KXP', 'KL Rahul', 'M Agarwal', nan, 11, 42],\n",
       "       ['KKR', 'D Kartik', 'A Russel', 2.0, 8, 39],\n",
       "       ['SRH', 'Dwarner', 'M Pandey', 1.0, 7, 39],\n",
       "       ['DC', 'S Iyer', 'R Pant', nan, 12, 40],\n",
       "       ['RR', 'S Smith', 'A Rahane', 1.0, 8, 38]], dtype=object)"
      ]
     },
     "metadata": {},
     "execution_count": 15
    }
   ],
   "source": [
    "# get each row as numpy array\n",
    "df.values"
   ]
  },
  {
   "source": [
    "Set custom index column: using set_index()"
   ],
   "cell_type": "markdown",
   "metadata": {}
  },
  {
   "cell_type": "code",
   "execution_count": 21,
   "metadata": {},
   "outputs": [
    {
     "output_type": "execute_result",
     "data": {
      "text/plain": [
       "           Captain   Vice_Captain  Won_times  Total_Seasons  Squad_team\n",
       "Team                                                                   \n",
       "RCB    Virat Kohli  AB de villers        NaN             12          40\n",
       "MI    Rohit Sharma      K Pollard        5.0             12          38\n",
       "CSK       MS Dhoni       A Jadeja        3.0             10          41\n",
       "KXP       KL Rahul      M Agarwal        NaN             11          42\n",
       "KKR       D Kartik       A Russel        2.0              8          39\n",
       "SRH        Dwarner       M Pandey        1.0              7          39\n",
       "DC          S Iyer         R Pant        NaN             12          40\n",
       "RR         S Smith       A Rahane        1.0              8          38"
      ],
      "text/html": "<div>\n<style scoped>\n    .dataframe tbody tr th:only-of-type {\n        vertical-align: middle;\n    }\n\n    .dataframe tbody tr th {\n        vertical-align: top;\n    }\n\n    .dataframe thead th {\n        text-align: right;\n    }\n</style>\n<table border=\"1\" class=\"dataframe\">\n  <thead>\n    <tr style=\"text-align: right;\">\n      <th></th>\n      <th>Captain</th>\n      <th>Vice_Captain</th>\n      <th>Won_times</th>\n      <th>Total_Seasons</th>\n      <th>Squad_team</th>\n    </tr>\n    <tr>\n      <th>Team</th>\n      <th></th>\n      <th></th>\n      <th></th>\n      <th></th>\n      <th></th>\n    </tr>\n  </thead>\n  <tbody>\n    <tr>\n      <th>RCB</th>\n      <td>Virat Kohli</td>\n      <td>AB de villers</td>\n      <td>NaN</td>\n      <td>12</td>\n      <td>40</td>\n    </tr>\n    <tr>\n      <th>MI</th>\n      <td>Rohit Sharma</td>\n      <td>K Pollard</td>\n      <td>5.0</td>\n      <td>12</td>\n      <td>38</td>\n    </tr>\n    <tr>\n      <th>CSK</th>\n      <td>MS Dhoni</td>\n      <td>A Jadeja</td>\n      <td>3.0</td>\n      <td>10</td>\n      <td>41</td>\n    </tr>\n    <tr>\n      <th>KXP</th>\n      <td>KL Rahul</td>\n      <td>M Agarwal</td>\n      <td>NaN</td>\n      <td>11</td>\n      <td>42</td>\n    </tr>\n    <tr>\n      <th>KKR</th>\n      <td>D Kartik</td>\n      <td>A Russel</td>\n      <td>2.0</td>\n      <td>8</td>\n      <td>39</td>\n    </tr>\n    <tr>\n      <th>SRH</th>\n      <td>Dwarner</td>\n      <td>M Pandey</td>\n      <td>1.0</td>\n      <td>7</td>\n      <td>39</td>\n    </tr>\n    <tr>\n      <th>DC</th>\n      <td>S Iyer</td>\n      <td>R Pant</td>\n      <td>NaN</td>\n      <td>12</td>\n      <td>40</td>\n    </tr>\n    <tr>\n      <th>RR</th>\n      <td>S Smith</td>\n      <td>A Rahane</td>\n      <td>1.0</td>\n      <td>8</td>\n      <td>38</td>\n    </tr>\n  </tbody>\n</table>\n</div>"
     },
     "metadata": {},
     "execution_count": 21
    }
   ],
   "source": [
    "df = pd.read_csv(\"sample_book.csv\")\n",
    "df.set_index('Team', inplace=True)\n",
    "df"
   ]
  },
  {
   "source": [
    "Sorting Dataframes:\n"
   ],
   "cell_type": "markdown",
   "metadata": {}
  },
  {
   "source": [
    "1) Sorting Index:"
   ],
   "cell_type": "markdown",
   "metadata": {}
  },
  {
   "cell_type": "code",
   "execution_count": 15,
   "metadata": {},
   "outputs": [
    {
     "output_type": "execute_result",
     "data": {
      "text/plain": [
       "           Captain   Vice_Captain  Won_times  Total_Seasons  Squad_team\n",
       "Team                                                                   \n",
       "CSK       MS Dhoni       A Jadeja        3.0             10          41\n",
       "DC          S Iyer         R Pant        2.0             12          40\n",
       "KKR       D Kartik       A Russel        2.0              8          38\n",
       "KXP       KL Rahul      M Agarwal        NaN             11          42\n",
       "MI    Rohit Sharma      K Pollard        5.0             12          38\n",
       "RCB    Virat Kohli  AB de villers        NaN             12          40\n",
       "RR         S Smith       A Rahane        1.0              8          39\n",
       "SRH        Dwarner       M Pandey        1.0              7          39"
      ],
      "text/html": "<div>\n<style scoped>\n    .dataframe tbody tr th:only-of-type {\n        vertical-align: middle;\n    }\n\n    .dataframe tbody tr th {\n        vertical-align: top;\n    }\n\n    .dataframe thead th {\n        text-align: right;\n    }\n</style>\n<table border=\"1\" class=\"dataframe\">\n  <thead>\n    <tr style=\"text-align: right;\">\n      <th></th>\n      <th>Captain</th>\n      <th>Vice_Captain</th>\n      <th>Won_times</th>\n      <th>Total_Seasons</th>\n      <th>Squad_team</th>\n    </tr>\n    <tr>\n      <th>Team</th>\n      <th></th>\n      <th></th>\n      <th></th>\n      <th></th>\n      <th></th>\n    </tr>\n  </thead>\n  <tbody>\n    <tr>\n      <th>CSK</th>\n      <td>MS Dhoni</td>\n      <td>A Jadeja</td>\n      <td>3.0</td>\n      <td>10</td>\n      <td>41</td>\n    </tr>\n    <tr>\n      <th>DC</th>\n      <td>S Iyer</td>\n      <td>R Pant</td>\n      <td>2.0</td>\n      <td>12</td>\n      <td>40</td>\n    </tr>\n    <tr>\n      <th>KKR</th>\n      <td>D Kartik</td>\n      <td>A Russel</td>\n      <td>2.0</td>\n      <td>8</td>\n      <td>38</td>\n    </tr>\n    <tr>\n      <th>KXP</th>\n      <td>KL Rahul</td>\n      <td>M Agarwal</td>\n      <td>NaN</td>\n      <td>11</td>\n      <td>42</td>\n    </tr>\n    <tr>\n      <th>MI</th>\n      <td>Rohit Sharma</td>\n      <td>K Pollard</td>\n      <td>5.0</td>\n      <td>12</td>\n      <td>38</td>\n    </tr>\n    <tr>\n      <th>RCB</th>\n      <td>Virat Kohli</td>\n      <td>AB de villers</td>\n      <td>NaN</td>\n      <td>12</td>\n      <td>40</td>\n    </tr>\n    <tr>\n      <th>RR</th>\n      <td>S Smith</td>\n      <td>A Rahane</td>\n      <td>1.0</td>\n      <td>8</td>\n      <td>39</td>\n    </tr>\n    <tr>\n      <th>SRH</th>\n      <td>Dwarner</td>\n      <td>M Pandey</td>\n      <td>1.0</td>\n      <td>7</td>\n      <td>39</td>\n    </tr>\n  </tbody>\n</table>\n</div>"
     },
     "metadata": {},
     "execution_count": 15
    }
   ],
   "source": [
    "# 1) Sort Index: using sort_index() \n",
    "df = pd.read_csv(\"sample_book.csv\")\n",
    "df.set_index('Team', inplace=True)\n",
    "df.sort_index(ascending=True, inplace = True)\n",
    "df"
   ]
  },
  {
   "source": [
    "2) Sorting Values: We can also sort by any custom column(s)"
   ],
   "cell_type": "markdown",
   "metadata": {}
  },
  {
   "source": [
    "# using sort_values(axis=0, ascending = Truem inplace=True)\n",
    "# Note: if axis =1, it considers coulumn wise. if axis = 0, then it considers row wise."
   ],
   "cell_type": "code",
   "metadata": {},
   "execution_count": 16,
   "outputs": []
  },
  {
   "cell_type": "code",
   "execution_count": 19,
   "metadata": {},
   "outputs": [
    {
     "output_type": "execute_result",
     "data": {
      "text/plain": [
       "           Captain   Vice_Captain  Won_times  Total_Seasons  Squad_team\n",
       "Team                                                                   \n",
       "KXP       KL Rahul      M Agarwal        NaN             11          42\n",
       "CSK       MS Dhoni       A Jadeja        3.0             10          41\n",
       "DC          S Iyer         R Pant        2.0             12          40\n",
       "RCB    Virat Kohli  AB de villers        NaN             12          40\n",
       "SRH        Dwarner       M Pandey        1.0              7          39\n",
       "RR         S Smith       A Rahane        1.0              8          39\n",
       "KKR       D Kartik       A Russel        2.0              8          38\n",
       "MI    Rohit Sharma      K Pollard        5.0             12          38"
      ],
      "text/html": "<div>\n<style scoped>\n    .dataframe tbody tr th:only-of-type {\n        vertical-align: middle;\n    }\n\n    .dataframe tbody tr th {\n        vertical-align: top;\n    }\n\n    .dataframe thead th {\n        text-align: right;\n    }\n</style>\n<table border=\"1\" class=\"dataframe\">\n  <thead>\n    <tr style=\"text-align: right;\">\n      <th></th>\n      <th>Captain</th>\n      <th>Vice_Captain</th>\n      <th>Won_times</th>\n      <th>Total_Seasons</th>\n      <th>Squad_team</th>\n    </tr>\n    <tr>\n      <th>Team</th>\n      <th></th>\n      <th></th>\n      <th></th>\n      <th></th>\n      <th></th>\n    </tr>\n  </thead>\n  <tbody>\n    <tr>\n      <th>KXP</th>\n      <td>KL Rahul</td>\n      <td>M Agarwal</td>\n      <td>NaN</td>\n      <td>11</td>\n      <td>42</td>\n    </tr>\n    <tr>\n      <th>CSK</th>\n      <td>MS Dhoni</td>\n      <td>A Jadeja</td>\n      <td>3.0</td>\n      <td>10</td>\n      <td>41</td>\n    </tr>\n    <tr>\n      <th>DC</th>\n      <td>S Iyer</td>\n      <td>R Pant</td>\n      <td>2.0</td>\n      <td>12</td>\n      <td>40</td>\n    </tr>\n    <tr>\n      <th>RCB</th>\n      <td>Virat Kohli</td>\n      <td>AB de villers</td>\n      <td>NaN</td>\n      <td>12</td>\n      <td>40</td>\n    </tr>\n    <tr>\n      <th>SRH</th>\n      <td>Dwarner</td>\n      <td>M Pandey</td>\n      <td>1.0</td>\n      <td>7</td>\n      <td>39</td>\n    </tr>\n    <tr>\n      <th>RR</th>\n      <td>S Smith</td>\n      <td>A Rahane</td>\n      <td>1.0</td>\n      <td>8</td>\n      <td>39</td>\n    </tr>\n    <tr>\n      <th>KKR</th>\n      <td>D Kartik</td>\n      <td>A Russel</td>\n      <td>2.0</td>\n      <td>8</td>\n      <td>38</td>\n    </tr>\n    <tr>\n      <th>MI</th>\n      <td>Rohit Sharma</td>\n      <td>K Pollard</td>\n      <td>5.0</td>\n      <td>12</td>\n      <td>38</td>\n    </tr>\n  </tbody>\n</table>\n</div>"
     },
     "metadata": {},
     "execution_count": 19
    }
   ],
   "source": [
    "df.sort_values('Squad_team', ascending=False, inplace=True)\n",
    "df"
   ]
  },
  {
   "cell_type": "code",
   "execution_count": 21,
   "metadata": {},
   "outputs": [
    {
     "output_type": "execute_result",
     "data": {
      "text/plain": [
       "           Captain   Vice_Captain  Won_times  Total_Seasons  Squad_team\n",
       "Team                                                                   \n",
       "SRH        Dwarner       M Pandey        1.0              7          39\n",
       "KKR       D Kartik       A Russel        2.0              8          38\n",
       "RR         S Smith       A Rahane        1.0              8          39\n",
       "CSK       MS Dhoni       A Jadeja        3.0             10          41\n",
       "KXP       KL Rahul      M Agarwal        NaN             11          42\n",
       "MI    Rohit Sharma      K Pollard        5.0             12          38\n",
       "DC          S Iyer         R Pant        2.0             12          40\n",
       "RCB    Virat Kohli  AB de villers        NaN             12          40"
      ],
      "text/html": "<div>\n<style scoped>\n    .dataframe tbody tr th:only-of-type {\n        vertical-align: middle;\n    }\n\n    .dataframe tbody tr th {\n        vertical-align: top;\n    }\n\n    .dataframe thead th {\n        text-align: right;\n    }\n</style>\n<table border=\"1\" class=\"dataframe\">\n  <thead>\n    <tr style=\"text-align: right;\">\n      <th></th>\n      <th>Captain</th>\n      <th>Vice_Captain</th>\n      <th>Won_times</th>\n      <th>Total_Seasons</th>\n      <th>Squad_team</th>\n    </tr>\n    <tr>\n      <th>Team</th>\n      <th></th>\n      <th></th>\n      <th></th>\n      <th></th>\n      <th></th>\n    </tr>\n  </thead>\n  <tbody>\n    <tr>\n      <th>SRH</th>\n      <td>Dwarner</td>\n      <td>M Pandey</td>\n      <td>1.0</td>\n      <td>7</td>\n      <td>39</td>\n    </tr>\n    <tr>\n      <th>KKR</th>\n      <td>D Kartik</td>\n      <td>A Russel</td>\n      <td>2.0</td>\n      <td>8</td>\n      <td>38</td>\n    </tr>\n    <tr>\n      <th>RR</th>\n      <td>S Smith</td>\n      <td>A Rahane</td>\n      <td>1.0</td>\n      <td>8</td>\n      <td>39</td>\n    </tr>\n    <tr>\n      <th>CSK</th>\n      <td>MS Dhoni</td>\n      <td>A Jadeja</td>\n      <td>3.0</td>\n      <td>10</td>\n      <td>41</td>\n    </tr>\n    <tr>\n      <th>KXP</th>\n      <td>KL Rahul</td>\n      <td>M Agarwal</td>\n      <td>NaN</td>\n      <td>11</td>\n      <td>42</td>\n    </tr>\n    <tr>\n      <th>MI</th>\n      <td>Rohit Sharma</td>\n      <td>K Pollard</td>\n      <td>5.0</td>\n      <td>12</td>\n      <td>38</td>\n    </tr>\n    <tr>\n      <th>DC</th>\n      <td>S Iyer</td>\n      <td>R Pant</td>\n      <td>2.0</td>\n      <td>12</td>\n      <td>40</td>\n    </tr>\n    <tr>\n      <th>RCB</th>\n      <td>Virat Kohli</td>\n      <td>AB de villers</td>\n      <td>NaN</td>\n      <td>12</td>\n      <td>40</td>\n    </tr>\n  </tbody>\n</table>\n</div>"
     },
     "metadata": {},
     "execution_count": 21
    }
   ],
   "source": [
    "# We can also perform sorting using >1 columns: It will sort using second column , then for the result it applies sorting based on first column given. (REVERSE order)\n",
    "df.sort_values(by=['Total_Seasons', 'Squad_team'], ascending=True, inplace=True)\n",
    "df"
   ]
  },
  {
   "cell_type": "code",
   "execution_count": null,
   "metadata": {},
   "outputs": [],
   "source": []
  }
 ]
}